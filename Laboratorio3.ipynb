{
  "nbformat": 4,
  "nbformat_minor": 0,
  "metadata": {
    "colab": {
      "provenance": [],
      "authorship_tag": "ABX9TyPG4KYJ5iI1XFMChee5ZECs",
      "include_colab_link": true
    },
    "kernelspec": {
      "name": "python3",
      "display_name": "Python 3"
    },
    "language_info": {
      "name": "python"
    }
  },
  "cells": [
    {
      "cell_type": "markdown",
      "metadata": {
        "id": "view-in-github",
        "colab_type": "text"
      },
      "source": [
        "<a href=\"https://colab.research.google.com/github/CristianS1988/GooSL/blob/main/Laboratorio3.ipynb\" target=\"_parent\"><img src=\"https://colab.research.google.com/assets/colab-badge.svg\" alt=\"Open In Colab\"/></a>"
      ]
    },
    {
      "cell_type": "markdown",
      "source": [
        "### Generador de texto\n"
      ],
      "metadata": {
        "id": "Q6Vd5MX_Xkpx"
      }
    },
    {
      "cell_type": "code",
      "execution_count": 1,
      "metadata": {
        "colab": {
          "base_uri": "https://localhost:8080/"
        },
        "id": "i2a5kiYaXia5",
        "outputId": "405817fb-0bee-42cc-a283-d9e2362450ab"
      },
      "outputs": [
        {
          "output_type": "stream",
          "name": "stdout",
          "text": [
            "Epoch 1/20\n",
            "24/24 [==============================] - 2s 26ms/step - loss: 5.4236 - accuracy: 0.0365\n",
            "Epoch 2/20\n",
            "24/24 [==============================] - 1s 25ms/step - loss: 5.0140 - accuracy: 0.0755\n",
            "Epoch 3/20\n",
            "24/24 [==============================] - 1s 26ms/step - loss: 4.9210 - accuracy: 0.0885\n",
            "Epoch 4/20\n",
            "24/24 [==============================] - 1s 26ms/step - loss: 4.8227 - accuracy: 0.1107\n",
            "Epoch 5/20\n",
            "24/24 [==============================] - 1s 25ms/step - loss: 4.6842 - accuracy: 0.1276\n",
            "Epoch 6/20\n",
            "24/24 [==============================] - 1s 25ms/step - loss: 4.4860 - accuracy: 0.1419\n",
            "Epoch 7/20\n",
            "24/24 [==============================] - 1s 27ms/step - loss: 4.2316 - accuracy: 0.1849\n",
            "Epoch 8/20\n",
            "24/24 [==============================] - 1s 25ms/step - loss: 3.9971 - accuracy: 0.2240\n",
            "Epoch 9/20\n",
            "24/24 [==============================] - 1s 40ms/step - loss: 3.7695 - accuracy: 0.2474\n",
            "Epoch 10/20\n",
            "24/24 [==============================] - 1s 33ms/step - loss: 3.5611 - accuracy: 0.2682\n",
            "Epoch 11/20\n",
            "24/24 [==============================] - 1s 26ms/step - loss: 3.3628 - accuracy: 0.3008\n",
            "Epoch 12/20\n",
            "24/24 [==============================] - 1s 27ms/step - loss: 3.1949 - accuracy: 0.3294\n",
            "Epoch 13/20\n",
            "24/24 [==============================] - 1s 27ms/step - loss: 3.0002 - accuracy: 0.3451\n",
            "Epoch 14/20\n",
            "24/24 [==============================] - 1s 26ms/step - loss: 2.8419 - accuracy: 0.3646\n",
            "Epoch 15/20\n",
            "24/24 [==============================] - 1s 28ms/step - loss: 2.6714 - accuracy: 0.4010\n",
            "Epoch 16/20\n",
            "24/24 [==============================] - 1s 27ms/step - loss: 2.5268 - accuracy: 0.4167\n",
            "Epoch 17/20\n",
            "24/24 [==============================] - 1s 27ms/step - loss: 2.3745 - accuracy: 0.4622\n",
            "Epoch 18/20\n",
            "24/24 [==============================] - 1s 25ms/step - loss: 2.2517 - accuracy: 0.4818\n",
            "Epoch 19/20\n",
            "24/24 [==============================] - 1s 26ms/step - loss: 2.1078 - accuracy: 0.5091\n",
            "Epoch 20/20\n",
            "24/24 [==============================] - 1s 26ms/step - loss: 1.9953 - accuracy: 0.5378\n"
          ]
        },
        {
          "output_type": "execute_result",
          "data": {
            "text/plain": [
              "<keras.src.callbacks.History at 0x7c50a24b5480>"
            ]
          },
          "metadata": {},
          "execution_count": 1
        }
      ],
      "source": [
        "import tensorflow as tf\n",
        "import requests\n",
        "\n",
        "# Descargar el texto del libro\n",
        "url = \"https://www.gutenberg.org/files/47631/47631-0.txt\"  # Reemplaza esta URL con la del libro que desees\n",
        "response = requests.get(url)\n",
        "book_text = response.text\n",
        "\n",
        "# Tokenización\n",
        "tokenizer = tf.keras.preprocessing.text.Tokenizer()\n",
        "tokenizer.fit_on_texts([book_text])\n",
        "total_words = len(tokenizer.word_index) + 1\n",
        "\n",
        "# Crear secuencias de n-gramas\n",
        "sequences = []\n",
        "lines = book_text.split('\\n')\n",
        "for line in lines:\n",
        "    token_list = tokenizer.texts_to_sequences([line])[0]\n",
        "    for i in range(1, len(token_list)):\n",
        "        n_gram_sequence = token_list[:i+1]\n",
        "        sequences.append(n_gram_sequence)\n",
        "\n",
        "# Padding de secuencias\n",
        "max_sequence_length = max([len(seq) for seq in sequences])\n",
        "sequences = tf.keras.preprocessing.sequence.pad_sequences(sequences, maxlen=max_sequence_length, padding=\"pre\")\n",
        "\n",
        "# Separar datos de entrada y etiquetas\n",
        "input_sequences, labels = sequences[:, :-1], sequences[:, -1]\n",
        "labels = tf.keras.utils.to_categorical(labels, num_classes=total_words)\n",
        "\n",
        "# Modelo básico\n",
        "modelo = tf.keras.Sequential([\n",
        "    tf.keras.layers.Embedding(total_words, 100, input_length=max_sequence_length - 1),\n",
        "    tf.keras.layers.LSTM(150),\n",
        "    tf.keras.layers.Dense(total_words, activation=\"softmax\")\n",
        "])\n",
        "\n",
        "# Compilar\n",
        "modelo.compile(loss=tf.keras.losses.categorical_crossentropy, optimizer=\"adam\", metrics=[\"accuracy\"])\n",
        "\n",
        "# Entrenamiento\n",
        "modelo.fit(x=input_sequences, y=labels, epochs=20)\n"
      ]
    },
    {
      "cell_type": "markdown",
      "source": [
        "### Modelo mejorado"
      ],
      "metadata": {
        "id": "VCSWV5dwXkOn"
      }
    },
    {
      "cell_type": "code",
      "source": [
        "# Modelo mejorado\n",
        "modelo_mejorado = tf.keras.Sequential([\n",
        "    tf.keras.layers.Embedding(total_words, 100, input_length=max_sequence_length - 1),\n",
        "    tf.keras.layers.LSTM(150, return_sequences=True),\n",
        "    tf.keras.layers.Dropout(0.2),\n",
        "    tf.keras.layers.LSTM(100),\n",
        "    tf.keras.layers.Dense(total_words/2, activation=\"relu\"),\n",
        "    tf.keras.layers.Dense(total_words, activation=\"softmax\")\n",
        "])\n",
        "\n",
        "# Compilar\n",
        "modelo_mejorado.compile(loss=tf.keras.losses.categorical_crossentropy, optimizer=\"adam\", metrics=[\"accuracy\"])\n",
        "\n",
        "# Entrenamiento\n",
        "modelo_mejorado.fit(x=input_sequences, y=labels, epochs=30)\n"
      ],
      "metadata": {
        "colab": {
          "base_uri": "https://localhost:8080/"
        },
        "id": "lbNVfPkoYrxp",
        "outputId": "f60a5f18-e59e-47af-c050-cf8b1c45b881"
      },
      "execution_count": 2,
      "outputs": [
        {
          "output_type": "stream",
          "name": "stdout",
          "text": [
            "Epoch 1/30\n",
            "24/24 [==============================] - 4s 42ms/step - loss: 5.4385 - accuracy: 0.0443\n",
            "Epoch 2/30\n",
            "24/24 [==============================] - 1s 59ms/step - loss: 5.0618 - accuracy: 0.0729\n",
            "Epoch 3/30\n",
            "24/24 [==============================] - 1s 50ms/step - loss: 4.9743 - accuracy: 0.0729\n",
            "Epoch 4/30\n",
            "24/24 [==============================] - 1s 43ms/step - loss: 4.9435 - accuracy: 0.0729\n",
            "Epoch 5/30\n",
            "24/24 [==============================] - 1s 43ms/step - loss: 4.8885 - accuracy: 0.0729\n",
            "Epoch 6/30\n",
            "24/24 [==============================] - 1s 44ms/step - loss: 4.7757 - accuracy: 0.0781\n",
            "Epoch 7/30\n",
            "24/24 [==============================] - 1s 44ms/step - loss: 4.6208 - accuracy: 0.0742\n",
            "Epoch 8/30\n",
            "24/24 [==============================] - 1s 45ms/step - loss: 4.4482 - accuracy: 0.0924\n",
            "Epoch 9/30\n",
            "24/24 [==============================] - 1s 43ms/step - loss: 4.2657 - accuracy: 0.0964\n",
            "Epoch 10/30\n",
            "24/24 [==============================] - 1s 44ms/step - loss: 4.1220 - accuracy: 0.1237\n",
            "Epoch 11/30\n",
            "24/24 [==============================] - 1s 44ms/step - loss: 4.0035 - accuracy: 0.1471\n",
            "Epoch 12/30\n",
            "24/24 [==============================] - 1s 53ms/step - loss: 3.8600 - accuracy: 0.1562\n",
            "Epoch 13/30\n",
            "24/24 [==============================] - 1s 57ms/step - loss: 3.7207 - accuracy: 0.1680\n",
            "Epoch 14/30\n",
            "24/24 [==============================] - 1s 44ms/step - loss: 3.5708 - accuracy: 0.1914\n",
            "Epoch 15/30\n",
            "24/24 [==============================] - 1s 44ms/step - loss: 3.4119 - accuracy: 0.2148\n",
            "Epoch 16/30\n",
            "24/24 [==============================] - 1s 43ms/step - loss: 3.2592 - accuracy: 0.2383\n",
            "Epoch 17/30\n",
            "24/24 [==============================] - 1s 44ms/step - loss: 3.0746 - accuracy: 0.2604\n",
            "Epoch 18/30\n",
            "24/24 [==============================] - 1s 43ms/step - loss: 2.9476 - accuracy: 0.2799\n",
            "Epoch 19/30\n",
            "24/24 [==============================] - 1s 44ms/step - loss: 2.8223 - accuracy: 0.3047\n",
            "Epoch 20/30\n",
            "24/24 [==============================] - 1s 43ms/step - loss: 2.6632 - accuracy: 0.3060\n",
            "Epoch 21/30\n",
            "24/24 [==============================] - 1s 43ms/step - loss: 2.5115 - accuracy: 0.3398\n",
            "Epoch 22/30\n",
            "24/24 [==============================] - 1s 46ms/step - loss: 2.4030 - accuracy: 0.3724\n",
            "Epoch 23/30\n",
            "24/24 [==============================] - 2s 64ms/step - loss: 2.3105 - accuracy: 0.3828\n",
            "Epoch 24/30\n",
            "24/24 [==============================] - 1s 45ms/step - loss: 2.2053 - accuracy: 0.4089\n",
            "Epoch 25/30\n",
            "24/24 [==============================] - 1s 43ms/step - loss: 2.1121 - accuracy: 0.4284\n",
            "Epoch 26/30\n",
            "24/24 [==============================] - 1s 44ms/step - loss: 2.0315 - accuracy: 0.4284\n",
            "Epoch 27/30\n",
            "24/24 [==============================] - 1s 42ms/step - loss: 1.9190 - accuracy: 0.4583\n",
            "Epoch 28/30\n",
            "24/24 [==============================] - 1s 44ms/step - loss: 1.8407 - accuracy: 0.4922\n",
            "Epoch 29/30\n",
            "24/24 [==============================] - 1s 44ms/step - loss: 1.7710 - accuracy: 0.4987\n",
            "Epoch 30/30\n",
            "24/24 [==============================] - 1s 44ms/step - loss: 1.7069 - accuracy: 0.5078\n"
          ]
        },
        {
          "output_type": "execute_result",
          "data": {
            "text/plain": [
              "<keras.src.callbacks.History at 0x7c50a2e40a90>"
            ]
          },
          "metadata": {},
          "execution_count": 2
        }
      ]
    },
    {
      "cell_type": "markdown",
      "source": [
        "### Ajuste de Hiperparámetros"
      ],
      "metadata": {
        "id": "0ZJ22vo1cbGu"
      }
    },
    {
      "cell_type": "code",
      "source": [
        "!pip install keras-tuner\n",
        "from kerastuner.tuners import RandomSearch\n",
        "\n",
        "def build_model(hp):\n",
        "    model = tf.keras.Sequential()\n",
        "    model.add(tf.keras.layers.Embedding(total_words, hp.Int('embedding_dim', 50, 150, 10), input_length=max_sequence_length - 1))\n",
        "    model.add(tf.keras.layers.LSTM(hp.Int('lstm_units', 50, 200, 10)))\n",
        "    model.add(tf.keras.layers.Dense(total_words, activation='softmax'))\n",
        "    model.compile(optimizer='adam', loss='categorical_crossentropy', metrics=['accuracy'])\n",
        "    return model\n",
        "\n",
        "tuner = RandomSearch(\n",
        "    build_model,\n",
        "    objective='val_accuracy',\n",
        "    max_trials=5,\n",
        "    executions_per_trial=2\n",
        ")\n",
        "\n",
        "tuner.search(x=input_sequences, y=labels, epochs=5, validation_split=0.2)\n"
      ],
      "metadata": {
        "colab": {
          "base_uri": "https://localhost:8080/"
        },
        "id": "y-zZBMizZcN7",
        "outputId": "c3c884a4-3ec3-456d-c10e-56467af7b414"
      },
      "execution_count": 5,
      "outputs": [
        {
          "output_type": "stream",
          "name": "stdout",
          "text": [
            "Requirement already satisfied: keras-tuner in /usr/local/lib/python3.10/dist-packages (1.4.0)\n",
            "Requirement already satisfied: keras-core in /usr/local/lib/python3.10/dist-packages (from keras-tuner) (0.1.7)\n",
            "Requirement already satisfied: packaging in /usr/local/lib/python3.10/dist-packages (from keras-tuner) (23.1)\n",
            "Requirement already satisfied: requests in /usr/local/lib/python3.10/dist-packages (from keras-tuner) (2.31.0)\n",
            "Requirement already satisfied: kt-legacy in /usr/local/lib/python3.10/dist-packages (from keras-tuner) (1.0.5)\n",
            "Requirement already satisfied: absl-py in /usr/local/lib/python3.10/dist-packages (from keras-core->keras-tuner) (1.4.0)\n",
            "Requirement already satisfied: numpy in /usr/local/lib/python3.10/dist-packages (from keras-core->keras-tuner) (1.23.5)\n",
            "Requirement already satisfied: rich in /usr/local/lib/python3.10/dist-packages (from keras-core->keras-tuner) (13.5.2)\n",
            "Requirement already satisfied: namex in /usr/local/lib/python3.10/dist-packages (from keras-core->keras-tuner) (0.0.7)\n",
            "Requirement already satisfied: h5py in /usr/local/lib/python3.10/dist-packages (from keras-core->keras-tuner) (3.9.0)\n",
            "Requirement already satisfied: dm-tree in /usr/local/lib/python3.10/dist-packages (from keras-core->keras-tuner) (0.1.8)\n",
            "Requirement already satisfied: charset-normalizer<4,>=2 in /usr/local/lib/python3.10/dist-packages (from requests->keras-tuner) (3.2.0)\n",
            "Requirement already satisfied: idna<4,>=2.5 in /usr/local/lib/python3.10/dist-packages (from requests->keras-tuner) (3.4)\n",
            "Requirement already satisfied: urllib3<3,>=1.21.1 in /usr/local/lib/python3.10/dist-packages (from requests->keras-tuner) (2.0.4)\n",
            "Requirement already satisfied: certifi>=2017.4.17 in /usr/local/lib/python3.10/dist-packages (from requests->keras-tuner) (2023.7.22)\n",
            "Requirement already satisfied: markdown-it-py>=2.2.0 in /usr/local/lib/python3.10/dist-packages (from rich->keras-core->keras-tuner) (3.0.0)\n",
            "Requirement already satisfied: pygments<3.0.0,>=2.13.0 in /usr/local/lib/python3.10/dist-packages (from rich->keras-core->keras-tuner) (2.16.1)\n",
            "Requirement already satisfied: mdurl~=0.1 in /usr/local/lib/python3.10/dist-packages (from markdown-it-py>=2.2.0->rich->keras-core->keras-tuner) (0.1.2)\n",
            "Reloading Tuner from ./untitled_project/tuner0.json\n"
          ]
        }
      ]
    },
    {
      "cell_type": "markdown",
      "source": [
        "### Validación y Pruebas"
      ],
      "metadata": {
        "id": "kUY4Nqf0cgHz"
      }
    },
    {
      "cell_type": "code",
      "source": [
        "from sklearn.model_selection import train_test_split\n",
        "\n",
        "x_train, x_val, y_train, y_val = train_test_split(input_sequences, labels, test_size=0.2)\n",
        "modelo.fit(x=x_train, y=y_train, validation_data=(x_val, y_val), epochs=20)\n"
      ],
      "metadata": {
        "colab": {
          "base_uri": "https://localhost:8080/"
        },
        "id": "_8GWAhX5aJu_",
        "outputId": "762a327c-d645-4850-83ed-ef8fb668fdbf"
      },
      "execution_count": 6,
      "outputs": [
        {
          "output_type": "stream",
          "name": "stdout",
          "text": [
            "Epoch 1/20\n",
            "20/20 [==============================] - 2s 49ms/step - loss: 1.8624 - accuracy: 0.5717 - val_loss: 1.8691 - val_accuracy: 0.5714\n",
            "Epoch 2/20\n",
            "20/20 [==============================] - 1s 31ms/step - loss: 1.7419 - accuracy: 0.6140 - val_loss: 2.0004 - val_accuracy: 0.5325\n",
            "Epoch 3/20\n",
            "20/20 [==============================] - 1s 58ms/step - loss: 1.6457 - accuracy: 0.6156 - val_loss: 2.0994 - val_accuracy: 0.5000\n",
            "Epoch 4/20\n",
            "20/20 [==============================] - 1s 45ms/step - loss: 1.5486 - accuracy: 0.6564 - val_loss: 2.1790 - val_accuracy: 0.4675\n",
            "Epoch 5/20\n",
            "20/20 [==============================] - 1s 32ms/step - loss: 1.4533 - accuracy: 0.6694 - val_loss: 2.2493 - val_accuracy: 0.4805\n",
            "Epoch 6/20\n",
            "20/20 [==============================] - 1s 32ms/step - loss: 1.3651 - accuracy: 0.6971 - val_loss: 2.2968 - val_accuracy: 0.4610\n",
            "Epoch 7/20\n",
            "20/20 [==============================] - 1s 32ms/step - loss: 1.2894 - accuracy: 0.7134 - val_loss: 2.3610 - val_accuracy: 0.4675\n",
            "Epoch 8/20\n",
            "20/20 [==============================] - 1s 32ms/step - loss: 1.2347 - accuracy: 0.7394 - val_loss: 2.3860 - val_accuracy: 0.4740\n",
            "Epoch 9/20\n",
            "20/20 [==============================] - 1s 31ms/step - loss: 1.1661 - accuracy: 0.7655 - val_loss: 2.4439 - val_accuracy: 0.4740\n",
            "Epoch 10/20\n",
            "20/20 [==============================] - 1s 33ms/step - loss: 1.1113 - accuracy: 0.7638 - val_loss: 2.4724 - val_accuracy: 0.4675\n",
            "Epoch 11/20\n",
            "20/20 [==============================] - 1s 33ms/step - loss: 1.0503 - accuracy: 0.7752 - val_loss: 2.5155 - val_accuracy: 0.4481\n",
            "Epoch 12/20\n",
            "20/20 [==============================] - 1s 32ms/step - loss: 0.9926 - accuracy: 0.7899 - val_loss: 2.5486 - val_accuracy: 0.4675\n",
            "Epoch 13/20\n",
            "20/20 [==============================] - 1s 33ms/step - loss: 0.9408 - accuracy: 0.8127 - val_loss: 2.5835 - val_accuracy: 0.4675\n",
            "Epoch 14/20\n",
            "20/20 [==============================] - 1s 33ms/step - loss: 0.9090 - accuracy: 0.8160 - val_loss: 2.6035 - val_accuracy: 0.4675\n",
            "Epoch 15/20\n",
            "20/20 [==============================] - 1s 33ms/step - loss: 0.8681 - accuracy: 0.8208 - val_loss: 2.6452 - val_accuracy: 0.4740\n",
            "Epoch 16/20\n",
            "20/20 [==============================] - 1s 33ms/step - loss: 0.8295 - accuracy: 0.8290 - val_loss: 2.6750 - val_accuracy: 0.4805\n",
            "Epoch 17/20\n",
            "20/20 [==============================] - 1s 33ms/step - loss: 0.8054 - accuracy: 0.8306 - val_loss: 2.6909 - val_accuracy: 0.4740\n",
            "Epoch 18/20\n",
            "20/20 [==============================] - 1s 33ms/step - loss: 0.7752 - accuracy: 0.8388 - val_loss: 2.7231 - val_accuracy: 0.4675\n",
            "Epoch 19/20\n",
            "20/20 [==============================] - 1s 36ms/step - loss: 0.7395 - accuracy: 0.8550 - val_loss: 2.7604 - val_accuracy: 0.4675\n",
            "Epoch 20/20\n",
            "20/20 [==============================] - 1s 62ms/step - loss: 0.7111 - accuracy: 0.8453 - val_loss: 2.7701 - val_accuracy: 0.4740\n"
          ]
        },
        {
          "output_type": "execute_result",
          "data": {
            "text/plain": [
              "<keras.src.callbacks.History at 0x7c50a2487e50>"
            ]
          },
          "metadata": {},
          "execution_count": 6
        }
      ]
    },
    {
      "cell_type": "markdown",
      "source": [
        "### Visualizaciones"
      ],
      "metadata": {
        "id": "GY3iTm0Jcj7h"
      }
    },
    {
      "cell_type": "code",
      "source": [
        "tensorboard_callback = tf.keras.callbacks.TensorBoard(log_dir='./logs')\n",
        "modelo.fit(x=input_sequences, y=labels, epochs=20, callbacks=[tensorboard_callback])\n"
      ],
      "metadata": {
        "colab": {
          "base_uri": "https://localhost:8080/"
        },
        "id": "D3CTiE50aMXW",
        "outputId": "06ded63b-1d16-4139-fbaa-499e9a594c97"
      },
      "execution_count": 7,
      "outputs": [
        {
          "output_type": "stream",
          "name": "stdout",
          "text": [
            "Epoch 1/20\n",
            "24/24 [==============================] - 2s 46ms/step - loss: 1.1093 - accuracy: 0.7760\n",
            "Epoch 2/20\n",
            "24/24 [==============================] - 1s 27ms/step - loss: 0.9933 - accuracy: 0.7799\n",
            "Epoch 3/20\n",
            "24/24 [==============================] - 1s 27ms/step - loss: 0.9060 - accuracy: 0.7904\n",
            "Epoch 4/20\n",
            "24/24 [==============================] - 1s 27ms/step - loss: 0.8321 - accuracy: 0.8008\n",
            "Epoch 5/20\n",
            "24/24 [==============================] - 1s 27ms/step - loss: 0.7815 - accuracy: 0.8216\n",
            "Epoch 6/20\n",
            "24/24 [==============================] - 1s 27ms/step - loss: 0.7412 - accuracy: 0.8320\n",
            "Epoch 7/20\n",
            "24/24 [==============================] - 1s 30ms/step - loss: 0.7044 - accuracy: 0.8451\n",
            "Epoch 8/20\n",
            "24/24 [==============================] - 1s 28ms/step - loss: 0.6748 - accuracy: 0.8516\n",
            "Epoch 9/20\n",
            "24/24 [==============================] - 1s 28ms/step - loss: 0.6454 - accuracy: 0.8542\n",
            "Epoch 10/20\n",
            "24/24 [==============================] - 1s 27ms/step - loss: 0.6223 - accuracy: 0.8529\n",
            "Epoch 11/20\n",
            "24/24 [==============================] - 1s 27ms/step - loss: 0.5999 - accuracy: 0.8620\n",
            "Epoch 12/20\n",
            "24/24 [==============================] - 1s 29ms/step - loss: 0.5821 - accuracy: 0.8594\n",
            "Epoch 13/20\n",
            "24/24 [==============================] - 1s 27ms/step - loss: 0.5631 - accuracy: 0.8633\n",
            "Epoch 14/20\n",
            "24/24 [==============================] - 1s 27ms/step - loss: 0.5420 - accuracy: 0.8724\n",
            "Epoch 15/20\n",
            "24/24 [==============================] - 1s 29ms/step - loss: 0.5312 - accuracy: 0.8698\n",
            "Epoch 16/20\n",
            "24/24 [==============================] - 1s 32ms/step - loss: 0.5186 - accuracy: 0.8698\n",
            "Epoch 17/20\n",
            "24/24 [==============================] - 1s 49ms/step - loss: 0.5038 - accuracy: 0.8672\n",
            "Epoch 18/20\n",
            "24/24 [==============================] - 1s 34ms/step - loss: 0.4916 - accuracy: 0.8646\n",
            "Epoch 19/20\n",
            "24/24 [==============================] - 1s 28ms/step - loss: 0.4772 - accuracy: 0.8750\n",
            "Epoch 20/20\n",
            "24/24 [==============================] - 1s 28ms/step - loss: 0.4677 - accuracy: 0.8711\n"
          ]
        },
        {
          "output_type": "execute_result",
          "data": {
            "text/plain": [
              "<keras.src.callbacks.History at 0x7c50a0c46d70>"
            ]
          },
          "metadata": {},
          "execution_count": 7
        }
      ]
    },
    {
      "cell_type": "markdown",
      "source": [
        "### Regularización"
      ],
      "metadata": {
        "id": "Ek44TSRZcqwl"
      }
    },
    {
      "cell_type": "code",
      "source": [
        "from tensorflow.keras.regularizers import l2\n",
        "\n",
        "modelo = tf.keras.Sequential([\n",
        "    tf.keras.layers.Embedding(total_words, 100, input_length=max_sequence_length - 1),\n",
        "    tf.keras.layers.LSTM(150, recurrent_dropout=0.2, kernel_regularizer=l2(0.01)),\n",
        "    tf.keras.layers.Dense(total_words, activation=\"softmax\")\n",
        "])\n"
      ],
      "metadata": {
        "id": "w1hgKXFjaR9N"
      },
      "execution_count": 8,
      "outputs": []
    },
    {
      "cell_type": "code",
      "source": [
        "best_hps = tuner.get_best_hyperparameters(num_trials=1)[0]\n",
        "print(best_hps.values)\n"
      ],
      "metadata": {
        "colab": {
          "base_uri": "https://localhost:8080/"
        },
        "id": "Kw-m6G9sbeXq",
        "outputId": "cb84a659-fe05-4824-dbd0-9c42e5018928"
      },
      "execution_count": 9,
      "outputs": [
        {
          "output_type": "stream",
          "name": "stdout",
          "text": [
            "{'embedding_dim': 80, 'lstm_units': 180}\n"
          ]
        }
      ]
    },
    {
      "cell_type": "code",
      "source": [
        "best_model = tuner.get_best_models(num_models=1)[0]\n"
      ],
      "metadata": {
        "id": "iVE1RyhUbgF9"
      },
      "execution_count": 10,
      "outputs": []
    },
    {
      "cell_type": "code",
      "source": [
        "tuner.results_summary()\n"
      ],
      "metadata": {
        "colab": {
          "base_uri": "https://localhost:8080/"
        },
        "id": "vntQdfSabj2D",
        "outputId": "d699e8d7-ab92-4d88-d2ea-3d8c114c0f2b"
      },
      "execution_count": 11,
      "outputs": [
        {
          "output_type": "stream",
          "name": "stdout",
          "text": [
            "Results summary\n",
            "Results in ./untitled_project\n",
            "Showing 10 best trials\n",
            "Objective(name=\"val_accuracy\", direction=\"max\")\n",
            "\n",
            "Trial 1 summary\n",
            "Hyperparameters:\n",
            "embedding_dim: 80\n",
            "lstm_units: 180\n",
            "Score: 0.10389610379934311\n",
            "\n",
            "Trial 0 summary\n",
            "Hyperparameters:\n",
            "embedding_dim: 90\n",
            "lstm_units: 160\n",
            "Score: 0.10064934939146042\n",
            "\n",
            "Trial 3 summary\n",
            "Hyperparameters:\n",
            "embedding_dim: 120\n",
            "lstm_units: 170\n",
            "Score: 0.08116883039474487\n",
            "\n",
            "Trial 4 summary\n",
            "Hyperparameters:\n",
            "embedding_dim: 130\n",
            "lstm_units: 60\n",
            "Score: 0.07467532530426979\n",
            "\n",
            "Trial 2 summary\n",
            "Hyperparameters:\n",
            "embedding_dim: 130\n",
            "lstm_units: 50\n",
            "Score: 0.07467532530426979\n"
          ]
        }
      ]
    },
    {
      "cell_type": "code",
      "source": [
        "best_model.fit(x=input_sequences, y=labels, epochs=50)\n"
      ],
      "metadata": {
        "colab": {
          "base_uri": "https://localhost:8080/"
        },
        "id": "Ez-YOa_RbmJB",
        "outputId": "b03d0c7e-6577-4233-94c8-038fd47d3c5b"
      },
      "execution_count": 12,
      "outputs": [
        {
          "output_type": "stream",
          "name": "stdout",
          "text": [
            "Epoch 1/50\n",
            "24/24 [==============================] - 2s 30ms/step - loss: 4.8210 - accuracy: 0.1211\n",
            "Epoch 2/50\n",
            "24/24 [==============================] - 1s 29ms/step - loss: 4.5688 - accuracy: 0.1406\n",
            "Epoch 3/50\n",
            "24/24 [==============================] - 1s 29ms/step - loss: 4.2957 - accuracy: 0.1693\n",
            "Epoch 4/50\n",
            "24/24 [==============================] - 1s 30ms/step - loss: 4.0666 - accuracy: 0.2135\n",
            "Epoch 5/50\n",
            "24/24 [==============================] - 1s 29ms/step - loss: 3.8170 - accuracy: 0.2396\n",
            "Epoch 6/50\n",
            "24/24 [==============================] - 1s 30ms/step - loss: 3.5904 - accuracy: 0.2630\n",
            "Epoch 7/50\n",
            "24/24 [==============================] - 1s 34ms/step - loss: 3.3920 - accuracy: 0.2839\n",
            "Epoch 8/50\n",
            "24/24 [==============================] - 1s 57ms/step - loss: 3.1849 - accuracy: 0.3099\n",
            "Epoch 9/50\n",
            "24/24 [==============================] - 1s 30ms/step - loss: 2.9929 - accuracy: 0.3203\n",
            "Epoch 10/50\n",
            "24/24 [==============================] - 1s 30ms/step - loss: 2.8196 - accuracy: 0.3555\n",
            "Epoch 11/50\n",
            "24/24 [==============================] - 1s 29ms/step - loss: 2.6427 - accuracy: 0.3737\n",
            "Epoch 12/50\n",
            "24/24 [==============================] - 1s 31ms/step - loss: 2.4869 - accuracy: 0.4141\n",
            "Epoch 13/50\n",
            "24/24 [==============================] - 1s 30ms/step - loss: 2.3375 - accuracy: 0.4531\n",
            "Epoch 14/50\n",
            "24/24 [==============================] - 1s 30ms/step - loss: 2.1973 - accuracy: 0.4609\n",
            "Epoch 15/50\n",
            "24/24 [==============================] - 1s 30ms/step - loss: 2.0634 - accuracy: 0.4909\n",
            "Epoch 16/50\n",
            "24/24 [==============================] - 1s 30ms/step - loss: 1.9345 - accuracy: 0.5169\n",
            "Epoch 17/50\n",
            "24/24 [==============================] - 1s 32ms/step - loss: 1.8228 - accuracy: 0.5469\n",
            "Epoch 18/50\n",
            "24/24 [==============================] - 1s 31ms/step - loss: 1.7163 - accuracy: 0.5690\n",
            "Epoch 19/50\n",
            "24/24 [==============================] - 1s 30ms/step - loss: 1.5990 - accuracy: 0.6094\n",
            "Epoch 20/50\n",
            "24/24 [==============================] - 1s 32ms/step - loss: 1.5035 - accuracy: 0.6419\n",
            "Epoch 21/50\n",
            "24/24 [==============================] - 1s 31ms/step - loss: 1.4081 - accuracy: 0.6484\n",
            "Epoch 22/50\n",
            "24/24 [==============================] - 1s 39ms/step - loss: 1.3206 - accuracy: 0.7070\n",
            "Epoch 23/50\n",
            "24/24 [==============================] - 1s 53ms/step - loss: 1.2431 - accuracy: 0.7188\n",
            "Epoch 24/50\n",
            "24/24 [==============================] - 1s 30ms/step - loss: 1.1729 - accuracy: 0.7383\n",
            "Epoch 25/50\n",
            "24/24 [==============================] - 1s 30ms/step - loss: 1.1016 - accuracy: 0.7552\n",
            "Epoch 26/50\n",
            "24/24 [==============================] - 1s 29ms/step - loss: 1.0455 - accuracy: 0.7721\n",
            "Epoch 27/50\n",
            "24/24 [==============================] - 1s 31ms/step - loss: 0.9862 - accuracy: 0.8021\n",
            "Epoch 28/50\n",
            "24/24 [==============================] - 1s 30ms/step - loss: 0.9464 - accuracy: 0.7982\n",
            "Epoch 29/50\n",
            "24/24 [==============================] - 1s 32ms/step - loss: 0.8864 - accuracy: 0.8164\n",
            "Epoch 30/50\n",
            "24/24 [==============================] - 1s 31ms/step - loss: 0.8515 - accuracy: 0.8203\n",
            "Epoch 31/50\n",
            "24/24 [==============================] - 1s 30ms/step - loss: 0.8038 - accuracy: 0.8438\n",
            "Epoch 32/50\n",
            "24/24 [==============================] - 1s 32ms/step - loss: 0.7606 - accuracy: 0.8490\n",
            "Epoch 33/50\n",
            "24/24 [==============================] - 1s 29ms/step - loss: 0.7318 - accuracy: 0.8568\n",
            "Epoch 34/50\n",
            "24/24 [==============================] - 1s 30ms/step - loss: 0.6997 - accuracy: 0.8529\n",
            "Epoch 35/50\n",
            "24/24 [==============================] - 1s 29ms/step - loss: 0.6710 - accuracy: 0.8542\n",
            "Epoch 36/50\n",
            "24/24 [==============================] - 1s 30ms/step - loss: 0.6475 - accuracy: 0.8633\n",
            "Epoch 37/50\n",
            "24/24 [==============================] - 1s 40ms/step - loss: 0.6184 - accuracy: 0.8724\n",
            "Epoch 38/50\n",
            "24/24 [==============================] - 1s 52ms/step - loss: 0.5967 - accuracy: 0.8568\n",
            "Epoch 39/50\n",
            "24/24 [==============================] - 1s 30ms/step - loss: 0.5724 - accuracy: 0.8633\n",
            "Epoch 40/50\n",
            "24/24 [==============================] - 1s 30ms/step - loss: 0.5562 - accuracy: 0.8633\n",
            "Epoch 41/50\n",
            "24/24 [==============================] - 1s 31ms/step - loss: 0.5357 - accuracy: 0.8685\n",
            "Epoch 42/50\n",
            "24/24 [==============================] - 1s 31ms/step - loss: 0.5220 - accuracy: 0.8737\n",
            "Epoch 43/50\n",
            "24/24 [==============================] - 1s 30ms/step - loss: 0.5036 - accuracy: 0.8711\n",
            "Epoch 44/50\n",
            "24/24 [==============================] - 1s 31ms/step - loss: 0.4949 - accuracy: 0.8724\n",
            "Epoch 45/50\n",
            "24/24 [==============================] - 1s 30ms/step - loss: 0.4783 - accuracy: 0.8724\n",
            "Epoch 46/50\n",
            "24/24 [==============================] - 1s 30ms/step - loss: 0.4671 - accuracy: 0.8737\n",
            "Epoch 47/50\n",
            "24/24 [==============================] - 1s 30ms/step - loss: 0.4590 - accuracy: 0.8698\n",
            "Epoch 48/50\n",
            "24/24 [==============================] - 1s 31ms/step - loss: 0.4457 - accuracy: 0.8750\n",
            "Epoch 49/50\n",
            "24/24 [==============================] - 1s 31ms/step - loss: 0.4369 - accuracy: 0.8724\n",
            "Epoch 50/50\n",
            "24/24 [==============================] - 1s 29ms/step - loss: 0.4252 - accuracy: 0.8724\n"
          ]
        },
        {
          "output_type": "execute_result",
          "data": {
            "text/plain": [
              "<keras.src.callbacks.History at 0x7c50a0f4dbd0>"
            ]
          },
          "metadata": {},
          "execution_count": 12
        }
      ]
    },
    {
      "cell_type": "code",
      "source": [],
      "metadata": {
        "colab": {
          "base_uri": "https://localhost:8080/",
          "height": 262
        },
        "id": "-F1B7Z8KcM4-",
        "outputId": "7d332ec2-1f43-4ca4-85c4-1faa4e2311cd"
      },
      "execution_count": 13,
      "outputs": [
        {
          "output_type": "error",
          "ename": "NameError",
          "evalue": "ignored",
          "traceback": [
            "\u001b[0;31m---------------------------------------------------------------------------\u001b[0m",
            "\u001b[0;31mNameError\u001b[0m                                 Traceback (most recent call last)",
            "\u001b[0;32m<ipython-input-13-dedca84e12fa>\u001b[0m in \u001b[0;36m<cell line: 5>\u001b[0;34m()\u001b[0m\n\u001b[1;32m      3\u001b[0m \u001b[0;31m# Graficar la pérdida\u001b[0m\u001b[0;34m\u001b[0m\u001b[0;34m\u001b[0m\u001b[0m\n\u001b[1;32m      4\u001b[0m \u001b[0mplt\u001b[0m\u001b[0;34m.\u001b[0m\u001b[0mfigure\u001b[0m\u001b[0;34m(\u001b[0m\u001b[0mfigsize\u001b[0m\u001b[0;34m=\u001b[0m\u001b[0;34m(\u001b[0m\u001b[0;36m12\u001b[0m\u001b[0;34m,\u001b[0m \u001b[0;36m6\u001b[0m\u001b[0;34m)\u001b[0m\u001b[0;34m)\u001b[0m\u001b[0;34m\u001b[0m\u001b[0;34m\u001b[0m\u001b[0m\n\u001b[0;32m----> 5\u001b[0;31m \u001b[0mplt\u001b[0m\u001b[0;34m.\u001b[0m\u001b[0mplot\u001b[0m\u001b[0;34m(\u001b[0m\u001b[0mhistory\u001b[0m\u001b[0;34m.\u001b[0m\u001b[0mhistory\u001b[0m\u001b[0;34m[\u001b[0m\u001b[0;34m'loss'\u001b[0m\u001b[0;34m]\u001b[0m\u001b[0;34m,\u001b[0m \u001b[0mlabel\u001b[0m\u001b[0;34m=\u001b[0m\u001b[0;34m'Training Loss'\u001b[0m\u001b[0;34m)\u001b[0m\u001b[0;34m\u001b[0m\u001b[0;34m\u001b[0m\u001b[0m\n\u001b[0m\u001b[1;32m      6\u001b[0m \u001b[0mplt\u001b[0m\u001b[0;34m.\u001b[0m\u001b[0mplot\u001b[0m\u001b[0;34m(\u001b[0m\u001b[0mhistory\u001b[0m\u001b[0;34m.\u001b[0m\u001b[0mhistory\u001b[0m\u001b[0;34m[\u001b[0m\u001b[0;34m'val_loss'\u001b[0m\u001b[0;34m]\u001b[0m\u001b[0;34m,\u001b[0m \u001b[0mlabel\u001b[0m\u001b[0;34m=\u001b[0m\u001b[0;34m'Validation Loss'\u001b[0m\u001b[0;34m)\u001b[0m\u001b[0;34m\u001b[0m\u001b[0;34m\u001b[0m\u001b[0m\n\u001b[1;32m      7\u001b[0m \u001b[0mplt\u001b[0m\u001b[0;34m.\u001b[0m\u001b[0mtitle\u001b[0m\u001b[0;34m(\u001b[0m\u001b[0;34m'Training and Validation Loss'\u001b[0m\u001b[0;34m)\u001b[0m\u001b[0;34m\u001b[0m\u001b[0;34m\u001b[0m\u001b[0m\n",
            "\u001b[0;31mNameError\u001b[0m: name 'history' is not defined"
          ]
        },
        {
          "output_type": "display_data",
          "data": {
            "text/plain": [
              "<Figure size 1200x600 with 0 Axes>"
            ]
          },
          "metadata": {}
        }
      ]
    }
  ]
}