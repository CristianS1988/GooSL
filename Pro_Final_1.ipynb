{
  "nbformat": 4,
  "nbformat_minor": 0,
  "metadata": {
    "colab": {
      "provenance": [],
      "authorship_tag": "ABX9TyOxvRF4vod5kIKcyl/PhBEi",
      "include_colab_link": true
    },
    "kernelspec": {
      "name": "python3",
      "display_name": "Python 3"
    },
    "language_info": {
      "name": "python"
    }
  },
  "cells": [
    {
      "cell_type": "markdown",
      "metadata": {
        "id": "view-in-github",
        "colab_type": "text"
      },
      "source": [
        "<a href=\"https://colab.research.google.com/github/CristianS1988/GooSL/blob/main/Pro_Final_1.ipynb\" target=\"_parent\"><img src=\"https://colab.research.google.com/assets/colab-badge.svg\" alt=\"Open In Colab\"/></a>"
      ]
    },
    {
      "cell_type": "markdown",
      "source": [
        "# **Proyecto Final**"
      ],
      "metadata": {
        "id": "5II6ICWtReeq"
      }
    },
    {
      "cell_type": "markdown",
      "source": [
        "Objetivo:\n",
        "Aplicar los conceptos adquiridos en el curso de SL1 en Python.\n",
        "\n",
        "Instrucciones:\n",
        "* Ud debe de realizar el proceso aprendido de Statistical Learning I para la solución de un problema utilizando machine learning. Para ello, es necesario que responda a los siguientes puntos:\n",
        "\n",
        "* Encontrar un problema: Como parte del proceso ud está encargado de encontrar un problema el cual le gustaría resolver, en el caso de no tener algún problema, se le plantea usar un modelo de TensorFlow.\n",
        "\n",
        "* Encontrar fuentes de datos: Ud debe de utilizar alguna fuente de datos para responder al problema planteado, existen múltiples sitios que proveen datos para exploración.\n",
        "\n",
        "* Buscar modelos: Para este apartado, debemos de analizar los datos y tomar decisiones que consideramos adecuadas, pero que estas mismas estén fundamentadas en el análisis realizado del dataset. Es necesario usar modelos de deep learning creados por ud o usar un modelo existente.\n",
        "\n",
        "* Insights: Ud debe de generar insights que le ayuden a responder o tomar decisiones acordes al problema que está resolviendo.\n",
        "\n",
        "* Story Teller: Como parte final de la resolución de un proyecto de Data Science, debemos comunicar de forma efectiva los resultados, es por ello que se debe de realizar una presentación en donde se muestren los resultados obtenidos y presentarlos."
      ],
      "metadata": {
        "id": "Ug8e4qX4RuQB"
      }
    },
    {
      "cell_type": "markdown",
      "source": [
        "# Dataset\n",
        "\n",
        "Instituto de Calidad del Café\n",
        "El Instituto de Calidad del Café (CQI, por sus siglas en inglés) es una organización sin fines de lucro que trabaja para mejorar la calidad y el valor del café en todo el mundo. Fue fundado en 1996 y tiene su sede en California, Estados Unidos.\n",
        "\n",
        "La misión de CQI es promover la calidad del café a través de una variedad de actividades que incluyen investigación, capacitación y programas de certificación. La organización trabaja con productores de café, procesadores, tostadores y otros actores interesados para mejorar los estándares de calidad del café, promover la sostenibilidad y apoyar el desarrollo de la industria del café de especialidad.\n",
        "\n",
        "Datos\n",
        "CQI mantiene una base de datos web que sirve como recurso para profesionales y entusiastas del café que están interesados en aprender sobre la calidad y la sostenibilidad del café. La base de datos incluye una variedad de información sobre la producción, procesamiento y evaluación sensorial del café. También contiene datos sobre genética del café, tipos de suelo y otros factores que pueden afectar la calidad del café.\n",
        "\n",
        "Evaluaciones sensoriales (puntuaciones de calidad del café)\n",
        "Aroma: Se refiere al olor o fragancia del café.\n",
        "Sabor: El sabor del café se evalúa en función del gusto, incluyendo cualquier dulzura, amargura, acidez y otros matices de sabor.\n",
        "Postgusto: Se refiere al sabor persistente que queda en la boca después de tragar el café.\n",
        "Acidez: La acidez en el café se refiere a la viveza o intensidad del sabor.\n",
        "Cuerpo: El cuerpo del café se refiere a la consistencia o viscosidad del café en la boca.\n",
        "Equilibrio: El equilibrio se refiere a cómo funcionan juntos los diferentes componentes de sabor del café.\n",
        "Uniformidad: La uniformidad se refiere a la consistencia del café de taza en taza.\n",
        "Taza limpia: Una taza limpia se refiere a un café que no tiene sabores o defectos no deseados, como acidez, rancidez o sabor a humedad.\n",
        "Dulzura: Puede ser descrita como sabor a caramelo, afrutado o floral, y es una cualidad deseable en el café."
      ],
      "metadata": {
        "id": "4cLnRJolV3yV"
      }
    },
    {
      "cell_type": "markdown",
      "source": [
        "# Problema del proyecto\n",
        "\n",
        "El Coffee Quality Institute (CQI) desea utilizar un árbol de decisiones para predecir el país de origen del café en función de sus características de sabor (Aroma, Flavor, Aftertaste, Acidity, Body) y otras variables relevantes. El objetivo es desarrollar un modelo predictivo que pueda identificar el país de origen del café en función de su perfil de sabor y características específicas, lo que puede ayudar a los consumidores y profesionales de la industria a tomar decisiones informadas y mejorar la calidad del cafe."
      ],
      "metadata": {
        "id": "iAx4Awz1R62B"
      }
    },
    {
      "cell_type": "markdown",
      "source": [],
      "metadata": {
        "id": "XkYwNgflVeWF"
      }
    },
    {
      "cell_type": "markdown",
      "source": [],
      "metadata": {
        "id": "EeabkrWWWLUJ"
      }
    }
  ]
}