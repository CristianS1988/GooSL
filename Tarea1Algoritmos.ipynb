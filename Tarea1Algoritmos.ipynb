{
  "nbformat": 4,
  "nbformat_minor": 0,
  "metadata": {
    "colab": {
      "provenance": [],
      "authorship_tag": "ABX9TyPzlTi1UBm8ksNiruja2qee",
      "include_colab_link": true
    },
    "kernelspec": {
      "name": "python3",
      "display_name": "Python 3"
    },
    "language_info": {
      "name": "python"
    }
  },
  "cells": [
    {
      "cell_type": "markdown",
      "metadata": {
        "id": "view-in-github",
        "colab_type": "text"
      },
      "source": [
        "<a href=\"https://colab.research.google.com/github/CristianS1988/GooSL/blob/main/Tarea1Algoritmos.ipynb\" target=\"_parent\"><img src=\"https://colab.research.google.com/assets/colab-badge.svg\" alt=\"Open In Colab\"/></a>"
      ]
    },
    {
      "cell_type": "code",
      "execution_count": null,
      "metadata": {
        "colab": {
          "base_uri": "https://localhost:8080/"
        },
        "id": "VWXUnm-jzBbM",
        "outputId": "d4ea42ba-e969-4287-a985-23d0f3e50e68"
      },
      "outputs": [
        {
          "output_type": "stream",
          "name": "stdout",
          "text": [
            "Intercepto: 20.696067778163453\n",
            "Coeficientes: [0.19420861 0.699003  ]\n"
          ]
        }
      ],
      "source": [
        "import numpy as np\n",
        "from sklearn.linear_model import LinearRegression\n",
        "\n",
        "# Definimos los datos\n",
        "edad = np.array([16, 25, 39, 45, 49, 64, 70])\n",
        "peso = np.array([140, 149, 165, 170, 165, 159, 144])\n",
        "presion = np.array([125, 129, 127, 150, 161, 144, 132])\n",
        "\n",
        "# Creamos una matriz con las variables independientes\n",
        "X = np.column_stack((edad, peso))\n",
        "\n",
        "# Creamos el modelo de regresión lineal\n",
        "modelo = LinearRegression()\n",
        "\n",
        "# Ajustamos el modelo a los datos\n",
        "modelo.fit(X, presion)\n",
        "\n",
        "# Imprimimos los coeficientes del modelo\n",
        "print('Intercepto:', modelo.intercept_)\n",
        "print('Coeficientes:', modelo.coef_)\n"
      ]
    }
  ]
}