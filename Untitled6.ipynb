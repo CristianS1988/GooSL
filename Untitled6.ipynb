{
  "nbformat": 4,
  "nbformat_minor": 0,
  "metadata": {
    "colab": {
      "provenance": [],
      "authorship_tag": "ABX9TyNQi2dhc4v0ivi3Eti4dDv6",
      "include_colab_link": true
    },
    "kernelspec": {
      "name": "python3",
      "display_name": "Python 3"
    },
    "language_info": {
      "name": "python"
    }
  },
  "cells": [
    {
      "cell_type": "markdown",
      "metadata": {
        "id": "view-in-github",
        "colab_type": "text"
      },
      "source": [
        "<a href=\"https://colab.research.google.com/github/CristianS1988/GooSL/blob/main/Untitled6.ipynb\" target=\"_parent\"><img src=\"https://colab.research.google.com/assets/colab-badge.svg\" alt=\"Open In Colab\"/></a>"
      ]
    },
    {
      "cell_type": "markdown",
      "source": [
        "### EXAMEN PARCIAL"
      ],
      "metadata": {
        "id": "iXwQH-pdtf04"
      }
    },
    {
      "cell_type": "markdown",
      "source": [
        "# 1. ¿Qué es Machine Learning?\n",
        "\n",
        "El aprendizaje de maquina es un metodo basado en inteligencia artificial para poder clasificar conjuntos de datos en diferentes categorrías utilizando algortimos que son modelos estadisticos que agrupan, separan o relacionan conjuntos de datos para identificar patrones dentro de un banco de datos para definitir a que categoría pertenece segun el modelo que utlicemos para clasificarlo.\n",
        "\n",
        "El término se utilizó por primera vez en 1959. Sin embargo, ha ganado relevancia en los últimos años debido al aumento de la capacidad de computación y al boom de los datos. Las técnicas de aprendizaje automático son, de hecho, una parte fundamental del Big Data."
      ],
      "metadata": {
        "id": "RHjeut8rtJJA"
      }
    },
    {
      "cell_type": "markdown",
      "source": [
        "# 2. Liste los tipos de aprendizaje de máquina\n",
        "\n",
        "## Aprendizaje supervisado: \n",
        "estos algoritmos cuentan con un aprendizaje previo basado en un sistema de etiquetas asociadas a unos datos que les permiten tomar decisiones o hacer predicciones. Un ejemplo es un detector de spam que etiqueta un e-mail como spam o no dependiendo de los patrones que ha aprendido del histórico de correos (remitente, relación texto/imágenes, palabras clave en el asunto, etc.).\n",
        "## Aprendizaje no supervisado: \n",
        "estos algoritmos no cuentan con un conocimiento previo. Se enfrentan al caos de datos con el objetivo de encontrar patrones que permitan organizarlos de alguna manera. Por ejemplo, en el campo del marketing se utilizan para extraer patrones de datos masivos provenientes de las redes sociales y crear campañas de publicidad altamente segmentadas.\n",
        "## Aprendizaje por refuerzo: \n",
        "su objetivo es que un algoritmo aprenda a partir de la propia experiencia. Esto es, que sea capaz de tomar la mejor decisión ante diferentes situaciones de acuerdo a un proceso de prueba y error en el que se recompensan las decisiones correctas. En la actualidad se está utilizando para posibilitar el reconocimiento facial, hacer diagnósticos médicos o clasificar secuencias de ADN."
      ],
      "metadata": {
        "id": "JiyVfiJ1y51t"
      }
    },
    {
      "cell_type": "markdown",
      "source": [
        "# 3. ¿Cuál es la diferencia entre AI y ML?\n",
        "\n",
        "La IA es la aplicación de técnicas informáticas para que una máquina simule el comportamiento y habilidades propias de la inteligencia humana. Por ejemplo, la IA puede: \n",
        "\n",
        "* Aprender de ejemplos y experiencias\n",
        "* Reconocer objetos\n",
        "* Comprender y responder al lenguaje natural\n",
        "* Tomar decisiones\n",
        "* Resolver problemas \n",
        "\n",
        "El ML es una rama de la Inteligencia Artificial que permite que las máquinas aprendan sin ser programadas a partir del procesamiento de datos, con los que pueden identificar patrones para hacer predicciones.\n",
        "\n",
        "La estadística es la base del ML, pues es indispensable para comprender los datos utilizados en el entrenamiento de una máquina, así como en la interpretación. \n",
        "\n",
        "Los tipos de ML que podemos encontrar son:\n",
        "\n",
        "* Aprendizaje por refuerzo\n",
        "* Aprendizaje supervisado\n",
        "* Aprendizaje no supervisado\n",
        "\n",
        "## Diferencia\n",
        "\n",
        "La diferencia entre la IA y el ML radica en que la IA es la capacidad de las máquinas de mostrar habilidades y comportamientos “inteligentes”, mientras que el ML es la técnica que se utiliza para mejorar esas capacidades. \n",
        "\n",
        "Uno de los objetivos de la IA es crear un sistema inteligente como los humanos para resolver problemas, entretanto, el ML tiene la finalidad de que las máquinas aprendan de los datos para que puedan dar resultados precisos sin necesidad de programarlas. "
      ],
      "metadata": {
        "id": "O_NOllwGzOvI"
      }
    },
    {
      "cell_type": "markdown",
      "source": [
        "# 4. Describa brevemente como se realiza un modelo de predicción para ML\n",
        "\n",
        "1. Recolección de datos, primero debemos investigar que conjunto de datos evaluará nuestro algoritmo y con cuales lo vamos a entrenar.\n",
        "\n",
        "2. Preparar los datos, también es un buen momento para hacer visualizaciones de nuestros datos y revisar si hay correlaciones entre las distintas características (“features”, suelen ser las columnas de nuestra base datos o archivo) que obtuvimos. Habrá que hacer Selección de Características, pues las que elijamos impactarán directamente en los tiempos de ejecución y en los resultados, también podremos hacer reducción de dimensiones aplicando PCA si fuera necesario. \n",
        "\n",
        "3. Elegir el algoritmo con el que haremos la clasificación.\n",
        "\n",
        "4. Entrenar nuestra máquina utilizaremos el set de datos de entrenamiento para ejecutar nuestra máquina y deberemos de ver una mejora incremental (para la predicción). Recordar inicializar los “pesos” de nuestro modelo aleatoriamente, los pesos son los valores que multiplican o afectan a las relaciones entre las entradas y las salidas, se irán ajustando automáticamente por el algoritmo seleccionado cuanto más se entrena.\n",
        "\n",
        "5. La manera en que vamos a evaluar debemos comprobar la máquina creada contra nuestro set de datos de Evaluación que contiene entradas que el modelo desconoce y verificar la precisión de nuestro modelo ya entrenado. Si la exactitud es menor o igual al 50% ese modelo no será útil ya que sería como lanzar una moneda al aire para tomar decisiones. Si alcanzamos un 90% o más podremos tener una buena confianza en los resultados que nos otorga el modelo.\n"
      ],
      "metadata": {
        "id": "xQosh0dc0Jiq"
      }
    },
    {
      "cell_type": "markdown",
      "source": [
        "# 5. Describa dos algoritmos de ML y dos de sus aplicaciones.\n",
        "\n",
        "1. Algoritmos de regresión\n",
        "En las tareas de regresión, el programa de aprendizaje automático debe estimar y comprender las relaciones entre las variables.\n",
        "\n",
        "2. Algoritmos bayesianos\n",
        "Este tipo de algoritmos por clasificación están basados en el teorema de Bayes y clasifican cada valor como independiente de cualquier otro. Lo que permite predecir una clase o categoría en función de un conjunto dado de características, utilizando la probabilidad.\n",
        "\n",
        "3. Algoritmos de agrupación\n",
        "Se utilizan en el aprendizaje no supervisado, y sirven para categorizar datos no etiquetados, es decir, datos sin categorías o grupos definidos.\n",
        "\n",
        "\n",
        "4. Algoritmos de árbol de decisión\n",
        "Un árbol de decisión es una estructura de árbol similar a un diagrama de flujo que utiliza un método de bifurcación para ilustrar cada resultado posible de una decisión. Cada nodo dentro del árbol representa una prueba en una variable específica, y cada rama es el resultado de esa prueba.\n",
        "\n",
        "5. Algoritmos de redes neuronales\n",
        "Una red neuronal artificial (RNA) comprende unidades dispuestas en una serie de capas, cada una de las cuales se conecta a las capas anexas. Las RNA se inspiran en los sistemas biológicos, como el cerebro, y en cómo procesan la información.\n",
        "\n",
        "6. Algoritmos de reducción de dimensión\n",
        "La reducción de dimensión reduce el número de variables que se consideran para encontrar la información exacta requerida.\n",
        "\n",
        "7. Algoritmos de Aprendizaje Profundo\n",
        "Los algoritmos de aprendizaje profundo ejecutan datos a través de varias capas de algoritmos de redes neuronales, las cuales pasan a una representación simplificada de los datos a la siguiente capa.\n",
        "\n",
        "\n"
      ],
      "metadata": {
        "id": "3vxHl_Qd4cSF"
      }
    },
    {
      "cell_type": "markdown",
      "source": [
        "# 6. ¿Cómo se calcula los \u001d𝜃s en una regresión lineal?\n",
        "\n",
        "La función estimacion.lineal calcula las estadísticas de una línea con el método de los \"mínimos cuadrados\" para calcular la línea recta que mejor se ajuste a los datos y después devuelve una matriz que describe la línea."
      ],
      "metadata": {
        "id": "xIlCSDPn5Ocr"
      }
    },
    {
      "cell_type": "markdown",
      "source": [
        "# 7. ¿Qué es \"ACCURACY\" en un modelo de ML?\n",
        "\n",
        "la fracción de predicciones que el modelo realizó correctamente.  Se representa como un porcentaje o un valor entre 0 y 1. Es una buena métrica cuando tenemos un conjunto de datos balanceado, esto es, cuando el número de etiquetas de cada clase es similar. "
      ],
      "metadata": {
        "id": "uEJ9jHEj6Lso"
      }
    },
    {
      "cell_type": "markdown",
      "source": [
        "# 8. ¿Cómo funciona K-FOLD CROSS VALIDATION?\n",
        "\n",
        "Consiste en dividir los datos de forma aleatoria en k grupos de aproximadamente el mismo tamaño, k-1 grupos se emplean para entrenar el modelo y uno de los grupos se emplea como validación. Este proceso se repite k veces utilizando un grupo distinto como validación en cada iteración."
      ],
      "metadata": {
        "id": "ar-liQk_6-XF"
      }
    },
    {
      "cell_type": "markdown",
      "source": [
        "# 9. ¿Cómo se determina si el problema es lineal o no lineal en algoritmos de ML?\n",
        "\n",
        "Podemos hacer una exploración de los datos o visualización en graficos de dispersión.\n"
      ],
      "metadata": {
        "id": "DpRD0SK77U0m"
      }
    },
    {
      "cell_type": "markdown",
      "source": [
        "# 10. ¿Cómo se selecciona el \"K\" correcto para el algoritmo K-Nearest?\n",
        "\n",
        "Es un algoritmo no supervisado y donde la “K” significa la cantidad de “grupos” (clusters) que deseamos clasificar, en K-Nearest Neighbor la “K” significa la cantidad de “puntos vecinos” que tenemos en cuenta en las cercanías para clasificar los “n” grupos -que ya se conocen de antemano, pues es un algoritmo supervisado-.\n"
      ],
      "metadata": {
        "id": "K0aoIIn_8qph"
      }
    },
    {
      "cell_type": "markdown",
      "source": [
        "# 11. Usted esta interpretando el resultado de un algoritmo de ML que categoriza pacientes de enfermedades terminales, la matriz de confusión devolvio el valor TP con 8 y FN con 15, ¿qué podría concluir del modelo?\n",
        "\n",
        "La fórmula para determinar la sensibilidad es TP / (TP FN), que en este caso es igual a 8 / (8 15) = 0,35 o 35%. Esto indica que solo el 35% de los casos de enfermedades terminales son identificados correctamente por el modelo.\n"
      ],
      "metadata": {
        "id": "ssU9UUyA9Gty"
      }
    },
    {
      "cell_type": "markdown",
      "source": [
        "# 12. Usted esta interpretando un modelo de ML que tiene un F1-SCORE de 1, ¿qué podria concluir del modelo?\n",
        "\n",
        "Esta métrica combina el precision y el recall, para obtener un valor mucho más objetivo.\n",
        "\n",
        "F1 = 2 * ((recall * precision)/(recall + precision))"
      ],
      "metadata": {
        "id": "LMS4iky4-eZ2"
      }
    },
    {
      "cell_type": "markdown",
      "source": [
        "# 13. ¿Utilizaría un Decision Tree para obtener un resultado predictivo y asi clasificar a la variable dependiente? Justifique su respuesta.\n",
        "\n",
        "###Ventajas\n",
        "\n",
        "* Los árboles son fáciles de interpretar aun cuando las relaciones entre predictores son complejas.\n",
        "\n",
        "* Los modelos basados en un solo árbol (no es el caso de Random Forest y Boosting) se pueden representar gráficamente aun cuando el número de predictores es mayor de 3.\n",
        "\n",
        "* Los árboles pueden, en teoría, manejar tanto predictores numéricos como categóricos sin tener que crear variables dummy o one-hot-encoding. En la práctica, esto depende de la implementación del algoritmo que tenga cada librería.\n",
        "\n",
        "* Al tratarse de métodos no paramétricos, no es necesario que se cumpla ningún tipo de distribución específica.\n",
        "\n",
        "* Por lo general, requieren mucha menos limpieza y preprocesado de los datos en comparación con otros métodos de aprendizaje estadístico (por ejemplo, no requieren estandarización).\n",
        "\n",
        "* No se ven muy influenciados por outliers.\n",
        "\n",
        "* Si para alguna observación, el valor de un predictor no está disponible, a pesar de no poder llegar a ningún nodo terminal, se puede conseguir una predicción empleando todas las observaciones que pertenecen al último nodo alcanzado. La precisión de la predicción se verá reducida pero al menos podrá obtenerse.\n",
        "\n",
        "* Son muy útiles en la exploración de datos, permiten identificar de forma rápida y eficiente las variables (predictores) más importantes.\n",
        "\n",
        "* Son capaces de seleccionar predictores de forma automática.\n",
        "\n",
        "* Pueden aplicarse a problemas de regresión y clasificación.\n",
        "\n",
        "###Desventajas\n",
        "\n",
        "* La capacidad predictiva de los modelos basados en un único árbol es bastante inferior a la conseguida con otros modelos. Esto es debido a su tendencia al overfitting y alta varianza. Sin embargo, existen técnicas más complejas que, haciendo uso de la combinación de múltiples árboles (bagging, random forest, boosting), consiguen mejorar en gran medida este problema.\n",
        "\n",
        "* Son sensibles a datos de entrenamiento desbalanceados (una de las clases domina sobre las demás).\n",
        "\n",
        "* Cuando tratan con predictores continuos, pierden parte de su información al categorizarlos en el momento de la división de los nodos.\n",
        "\n",
        "* Tal y como se describe más adelante, la creación de las ramificaciones de los árboles se consigue mediante el algoritmo de recursive binary splitting. Este algoritmo identifica y evalúa las posibles divisiones de cada predictor acorde a una determinada medida (RSS, Gini, entropía…). Los predictores continuos tienen mayor probabilidad de contener, solo por azar, algún punto de corte óptimo, por lo que suelen verse favorecidos en la creación de los árboles.\n",
        "\n",
        "* No son capaces de extrapolar fuera del rango de los predictores observado en los datos de entrenamiento."
      ],
      "metadata": {
        "id": "s-HHN3mUABtj"
      }
    },
    {
      "cell_type": "markdown",
      "source": [
        "# 14. Explique los indicadores obtenidos de la matriz de confusión.\n",
        "\n",
        "1. Un dato “normal” es clasificado correctamente como “normal”. A esto lo llamaremos verdadero positivo\n",
        "2. Un dato “normal” es clasificado incorrectamente como “anormal”. A esto lo llamaremos un falso negativo (porque realmente no es un caso negativo)\n",
        "3. Un dato “anormal” es clasificado correctamente como “anormal”. A esto lo llamaremos un verdadero negativo\n",
        "Y un dato “anormal” es clasificado incorrectamente como “normal”. A esto lo llamaremos un falso positivo (porque realmente no es un caso positivo)."
      ],
      "metadata": {
        "id": "cWDilMSuCv2n"
      }
    },
    {
      "cell_type": "markdown",
      "source": [
        "# Carga de librerías"
      ],
      "metadata": {
        "id": "RChWvV_rtdsn"
      }
    },
    {
      "cell_type": "code",
      "source": [
        "import itertools\n",
        "import numpy as np\n",
        "import matplotlib.pyplot as plt\n",
        "from matplotlib.ticker import NullFormatter\n",
        "import pandas as pd\n",
        "import numpy as np\n",
        "import matplotlib.ticker as ticker\n",
        "from sklearn import preprocessing\n",
        "from sklearn.preprocessing import LabelEncoder\n",
        "from sklearn.model_selection import train_test_split\n",
        "from sklearn.ensemble import RandomForestClassifier\n",
        "from sklearn.metrics import accuracy_score\n",
        "from sklearn.metrics import confusion_matrix\n",
        "import seaborn as sns\n",
        "%matplotlib inline"
      ],
      "metadata": {
        "id": "3luS6daQtK6O"
      },
      "execution_count": 49,
      "outputs": []
    },
    {
      "cell_type": "code",
      "source": [
        "!pip install -U scikit-learn"
      ],
      "metadata": {
        "colab": {
          "base_uri": "https://localhost:8080/"
        },
        "id": "0h0puNWXg0qW",
        "outputId": "2e50d3f8-e440-4a55-d088-09d5da7a04b4"
      },
      "execution_count": 50,
      "outputs": [
        {
          "output_type": "stream",
          "name": "stdout",
          "text": [
            "Looking in indexes: https://pypi.org/simple, https://us-python.pkg.dev/colab-wheels/public/simple/\n",
            "Requirement already satisfied: scikit-learn in /usr/local/lib/python3.10/dist-packages (1.2.2)\n",
            "Requirement already satisfied: numpy>=1.17.3 in /usr/local/lib/python3.10/dist-packages (from scikit-learn) (1.22.4)\n",
            "Requirement already satisfied: scipy>=1.3.2 in /usr/local/lib/python3.10/dist-packages (from scikit-learn) (1.10.1)\n",
            "Requirement already satisfied: joblib>=1.1.1 in /usr/local/lib/python3.10/dist-packages (from scikit-learn) (1.2.0)\n",
            "Requirement already satisfied: threadpoolctl>=2.0.0 in /usr/local/lib/python3.10/dist-packages (from scikit-learn) (3.1.0)\n"
          ]
        }
      ]
    },
    {
      "cell_type": "markdown",
      "source": [
        "### Carga de datos"
      ],
      "metadata": {
        "id": "XpC75pxkqq5b"
      }
    },
    {
      "cell_type": "code",
      "source": [
        "df = pd.read_csv('Examen.csv')\n",
        "df.head()"
      ],
      "metadata": {
        "colab": {
          "base_uri": "https://localhost:8080/",
          "height": 352
        },
        "id": "vVcs6I_XJKci",
        "outputId": "b47e0900-2ddb-41b3-ac12-c1a44c7a95b3"
      },
      "execution_count": 51,
      "outputs": [
        {
          "output_type": "execute_result",
          "data": {
            "text/plain": [
              "  checking_status  duration                    credit_history  \\\n",
              "0            '<0'         6  'critical/other existing credit'   \n",
              "1      '0<=X<200'        48                   'existing paid'   \n",
              "2   'no checking'        12  'critical/other existing credit'   \n",
              "3            '<0'        42                   'existing paid'   \n",
              "4            '<0'        24              'delayed previously'   \n",
              "\n",
              "               purpose  credit_amount      savings_status employment  \\\n",
              "0             radio/tv           1169  'no known savings'      '>=7'   \n",
              "1             radio/tv           5951              '<100'   '1<=X<4'   \n",
              "2            education           2096              '<100'   '4<=X<7'   \n",
              "3  furniture/equipment           7882              '<100'   '4<=X<7'   \n",
              "4            'new car'           4870              '<100'   '1<=X<4'   \n",
              "\n",
              "   installment_commitment       personal_status other_parties  ...  \\\n",
              "0                       4         'male single'          none  ...   \n",
              "1                       2  'female div/dep/mar'          none  ...   \n",
              "2                       2         'male single'          none  ...   \n",
              "3                       2         'male single'     guarantor  ...   \n",
              "4                       3         'male single'          none  ...   \n",
              "\n",
              "    property_magnitude age  other_payment_plans     housing existing_credits  \\\n",
              "0        'real estate'  67                 none         own                2   \n",
              "1        'real estate'  22                 none         own                1   \n",
              "2        'real estate'  49                 none         own                1   \n",
              "3     'life insurance'  45                 none  'for free'                1   \n",
              "4  'no known property'  53                 none  'for free'                2   \n",
              "\n",
              "                    job num_dependents  own_telephone foreign_worker class  \n",
              "0               skilled              1            yes            yes  good  \n",
              "1               skilled              1           none            yes   bad  \n",
              "2  'unskilled resident'              2           none            yes  good  \n",
              "3               skilled              2           none            yes  good  \n",
              "4               skilled              2           none            yes   bad  \n",
              "\n",
              "[5 rows x 21 columns]"
            ],
            "text/html": [
              "\n",
              "  <div id=\"df-c4210a0f-6af0-4bf2-b17e-93ecb5fe2703\">\n",
              "    <div class=\"colab-df-container\">\n",
              "      <div>\n",
              "<style scoped>\n",
              "    .dataframe tbody tr th:only-of-type {\n",
              "        vertical-align: middle;\n",
              "    }\n",
              "\n",
              "    .dataframe tbody tr th {\n",
              "        vertical-align: top;\n",
              "    }\n",
              "\n",
              "    .dataframe thead th {\n",
              "        text-align: right;\n",
              "    }\n",
              "</style>\n",
              "<table border=\"1\" class=\"dataframe\">\n",
              "  <thead>\n",
              "    <tr style=\"text-align: right;\">\n",
              "      <th></th>\n",
              "      <th>checking_status</th>\n",
              "      <th>duration</th>\n",
              "      <th>credit_history</th>\n",
              "      <th>purpose</th>\n",
              "      <th>credit_amount</th>\n",
              "      <th>savings_status</th>\n",
              "      <th>employment</th>\n",
              "      <th>installment_commitment</th>\n",
              "      <th>personal_status</th>\n",
              "      <th>other_parties</th>\n",
              "      <th>...</th>\n",
              "      <th>property_magnitude</th>\n",
              "      <th>age</th>\n",
              "      <th>other_payment_plans</th>\n",
              "      <th>housing</th>\n",
              "      <th>existing_credits</th>\n",
              "      <th>job</th>\n",
              "      <th>num_dependents</th>\n",
              "      <th>own_telephone</th>\n",
              "      <th>foreign_worker</th>\n",
              "      <th>class</th>\n",
              "    </tr>\n",
              "  </thead>\n",
              "  <tbody>\n",
              "    <tr>\n",
              "      <th>0</th>\n",
              "      <td>'&lt;0'</td>\n",
              "      <td>6</td>\n",
              "      <td>'critical/other existing credit'</td>\n",
              "      <td>radio/tv</td>\n",
              "      <td>1169</td>\n",
              "      <td>'no known savings'</td>\n",
              "      <td>'&gt;=7'</td>\n",
              "      <td>4</td>\n",
              "      <td>'male single'</td>\n",
              "      <td>none</td>\n",
              "      <td>...</td>\n",
              "      <td>'real estate'</td>\n",
              "      <td>67</td>\n",
              "      <td>none</td>\n",
              "      <td>own</td>\n",
              "      <td>2</td>\n",
              "      <td>skilled</td>\n",
              "      <td>1</td>\n",
              "      <td>yes</td>\n",
              "      <td>yes</td>\n",
              "      <td>good</td>\n",
              "    </tr>\n",
              "    <tr>\n",
              "      <th>1</th>\n",
              "      <td>'0&lt;=X&lt;200'</td>\n",
              "      <td>48</td>\n",
              "      <td>'existing paid'</td>\n",
              "      <td>radio/tv</td>\n",
              "      <td>5951</td>\n",
              "      <td>'&lt;100'</td>\n",
              "      <td>'1&lt;=X&lt;4'</td>\n",
              "      <td>2</td>\n",
              "      <td>'female div/dep/mar'</td>\n",
              "      <td>none</td>\n",
              "      <td>...</td>\n",
              "      <td>'real estate'</td>\n",
              "      <td>22</td>\n",
              "      <td>none</td>\n",
              "      <td>own</td>\n",
              "      <td>1</td>\n",
              "      <td>skilled</td>\n",
              "      <td>1</td>\n",
              "      <td>none</td>\n",
              "      <td>yes</td>\n",
              "      <td>bad</td>\n",
              "    </tr>\n",
              "    <tr>\n",
              "      <th>2</th>\n",
              "      <td>'no checking'</td>\n",
              "      <td>12</td>\n",
              "      <td>'critical/other existing credit'</td>\n",
              "      <td>education</td>\n",
              "      <td>2096</td>\n",
              "      <td>'&lt;100'</td>\n",
              "      <td>'4&lt;=X&lt;7'</td>\n",
              "      <td>2</td>\n",
              "      <td>'male single'</td>\n",
              "      <td>none</td>\n",
              "      <td>...</td>\n",
              "      <td>'real estate'</td>\n",
              "      <td>49</td>\n",
              "      <td>none</td>\n",
              "      <td>own</td>\n",
              "      <td>1</td>\n",
              "      <td>'unskilled resident'</td>\n",
              "      <td>2</td>\n",
              "      <td>none</td>\n",
              "      <td>yes</td>\n",
              "      <td>good</td>\n",
              "    </tr>\n",
              "    <tr>\n",
              "      <th>3</th>\n",
              "      <td>'&lt;0'</td>\n",
              "      <td>42</td>\n",
              "      <td>'existing paid'</td>\n",
              "      <td>furniture/equipment</td>\n",
              "      <td>7882</td>\n",
              "      <td>'&lt;100'</td>\n",
              "      <td>'4&lt;=X&lt;7'</td>\n",
              "      <td>2</td>\n",
              "      <td>'male single'</td>\n",
              "      <td>guarantor</td>\n",
              "      <td>...</td>\n",
              "      <td>'life insurance'</td>\n",
              "      <td>45</td>\n",
              "      <td>none</td>\n",
              "      <td>'for free'</td>\n",
              "      <td>1</td>\n",
              "      <td>skilled</td>\n",
              "      <td>2</td>\n",
              "      <td>none</td>\n",
              "      <td>yes</td>\n",
              "      <td>good</td>\n",
              "    </tr>\n",
              "    <tr>\n",
              "      <th>4</th>\n",
              "      <td>'&lt;0'</td>\n",
              "      <td>24</td>\n",
              "      <td>'delayed previously'</td>\n",
              "      <td>'new car'</td>\n",
              "      <td>4870</td>\n",
              "      <td>'&lt;100'</td>\n",
              "      <td>'1&lt;=X&lt;4'</td>\n",
              "      <td>3</td>\n",
              "      <td>'male single'</td>\n",
              "      <td>none</td>\n",
              "      <td>...</td>\n",
              "      <td>'no known property'</td>\n",
              "      <td>53</td>\n",
              "      <td>none</td>\n",
              "      <td>'for free'</td>\n",
              "      <td>2</td>\n",
              "      <td>skilled</td>\n",
              "      <td>2</td>\n",
              "      <td>none</td>\n",
              "      <td>yes</td>\n",
              "      <td>bad</td>\n",
              "    </tr>\n",
              "  </tbody>\n",
              "</table>\n",
              "<p>5 rows × 21 columns</p>\n",
              "</div>\n",
              "      <button class=\"colab-df-convert\" onclick=\"convertToInteractive('df-c4210a0f-6af0-4bf2-b17e-93ecb5fe2703')\"\n",
              "              title=\"Convert this dataframe to an interactive table.\"\n",
              "              style=\"display:none;\">\n",
              "        \n",
              "  <svg xmlns=\"http://www.w3.org/2000/svg\" height=\"24px\"viewBox=\"0 0 24 24\"\n",
              "       width=\"24px\">\n",
              "    <path d=\"M0 0h24v24H0V0z\" fill=\"none\"/>\n",
              "    <path d=\"M18.56 5.44l.94 2.06.94-2.06 2.06-.94-2.06-.94-.94-2.06-.94 2.06-2.06.94zm-11 1L8.5 8.5l.94-2.06 2.06-.94-2.06-.94L8.5 2.5l-.94 2.06-2.06.94zm10 10l.94 2.06.94-2.06 2.06-.94-2.06-.94-.94-2.06-.94 2.06-2.06.94z\"/><path d=\"M17.41 7.96l-1.37-1.37c-.4-.4-.92-.59-1.43-.59-.52 0-1.04.2-1.43.59L10.3 9.45l-7.72 7.72c-.78.78-.78 2.05 0 2.83L4 21.41c.39.39.9.59 1.41.59.51 0 1.02-.2 1.41-.59l7.78-7.78 2.81-2.81c.8-.78.8-2.07 0-2.86zM5.41 20L4 18.59l7.72-7.72 1.47 1.35L5.41 20z\"/>\n",
              "  </svg>\n",
              "      </button>\n",
              "      \n",
              "  <style>\n",
              "    .colab-df-container {\n",
              "      display:flex;\n",
              "      flex-wrap:wrap;\n",
              "      gap: 12px;\n",
              "    }\n",
              "\n",
              "    .colab-df-convert {\n",
              "      background-color: #E8F0FE;\n",
              "      border: none;\n",
              "      border-radius: 50%;\n",
              "      cursor: pointer;\n",
              "      display: none;\n",
              "      fill: #1967D2;\n",
              "      height: 32px;\n",
              "      padding: 0 0 0 0;\n",
              "      width: 32px;\n",
              "    }\n",
              "\n",
              "    .colab-df-convert:hover {\n",
              "      background-color: #E2EBFA;\n",
              "      box-shadow: 0px 1px 2px rgba(60, 64, 67, 0.3), 0px 1px 3px 1px rgba(60, 64, 67, 0.15);\n",
              "      fill: #174EA6;\n",
              "    }\n",
              "\n",
              "    [theme=dark] .colab-df-convert {\n",
              "      background-color: #3B4455;\n",
              "      fill: #D2E3FC;\n",
              "    }\n",
              "\n",
              "    [theme=dark] .colab-df-convert:hover {\n",
              "      background-color: #434B5C;\n",
              "      box-shadow: 0px 1px 3px 1px rgba(0, 0, 0, 0.15);\n",
              "      filter: drop-shadow(0px 1px 2px rgba(0, 0, 0, 0.3));\n",
              "      fill: #FFFFFF;\n",
              "    }\n",
              "  </style>\n",
              "\n",
              "      <script>\n",
              "        const buttonEl =\n",
              "          document.querySelector('#df-c4210a0f-6af0-4bf2-b17e-93ecb5fe2703 button.colab-df-convert');\n",
              "        buttonEl.style.display =\n",
              "          google.colab.kernel.accessAllowed ? 'block' : 'none';\n",
              "\n",
              "        async function convertToInteractive(key) {\n",
              "          const element = document.querySelector('#df-c4210a0f-6af0-4bf2-b17e-93ecb5fe2703');\n",
              "          const dataTable =\n",
              "            await google.colab.kernel.invokeFunction('convertToInteractive',\n",
              "                                                     [key], {});\n",
              "          if (!dataTable) return;\n",
              "\n",
              "          const docLinkHtml = 'Like what you see? Visit the ' +\n",
              "            '<a target=\"_blank\" href=https://colab.research.google.com/notebooks/data_table.ipynb>data table notebook</a>'\n",
              "            + ' to learn more about interactive tables.';\n",
              "          element.innerHTML = '';\n",
              "          dataTable['output_type'] = 'display_data';\n",
              "          await google.colab.output.renderOutput(dataTable, element);\n",
              "          const docLink = document.createElement('div');\n",
              "          docLink.innerHTML = docLinkHtml;\n",
              "          element.appendChild(docLink);\n",
              "        }\n",
              "      </script>\n",
              "    </div>\n",
              "  </div>\n",
              "  "
            ]
          },
          "metadata": {},
          "execution_count": 51
        }
      ]
    },
    {
      "cell_type": "markdown",
      "source": [
        "### Explorar datos"
      ],
      "metadata": {
        "id": "VMi8FpcEq5OX"
      }
    },
    {
      "cell_type": "code",
      "source": [
        "# Mostrar los primeros cinco registros\n",
        "print(df.head())"
      ],
      "metadata": {
        "colab": {
          "base_uri": "https://localhost:8080/"
        },
        "id": "lw9Co4e2q8JF",
        "outputId": "e9a028cf-6c18-4f3f-85d1-e249a35b3236"
      },
      "execution_count": 43,
      "outputs": [
        {
          "output_type": "stream",
          "name": "stdout",
          "text": [
            "   checking_status  duration  credit_history  purpose  credit_amount  \\\n",
            "0                1         6               1        7           1169   \n",
            "1                0        48               3        7           5951   \n",
            "2                3        12               1        4           2096   \n",
            "3                1        42               3        5           7882   \n",
            "4                1        24               2        1           4870   \n",
            "\n",
            "   savings_status  employment  installment_commitment  personal_status  \\\n",
            "0               4           3                       4                3   \n",
            "1               2           0                       2                0   \n",
            "2               2           1                       2                3   \n",
            "3               2           1                       2                3   \n",
            "4               2           0                       3                3   \n",
            "\n",
            "   other_parties  ...  property_magnitude  age  other_payment_plans  housing  \\\n",
            "0              2  ...                   2   67                    1        1   \n",
            "1              2  ...                   2   22                    1        1   \n",
            "2              2  ...                   2   49                    1        1   \n",
            "3              1  ...                   0   45                    1        0   \n",
            "4              2  ...                   1   53                    1        0   \n",
            "\n",
            "   existing_credits  job  num_dependents  own_telephone  foreign_worker  class  \n",
            "0                 2    3               1              1               1   good  \n",
            "1                 1    3               1              0               1    bad  \n",
            "2                 1    2               2              0               1   good  \n",
            "3                 1    3               2              0               1   good  \n",
            "4                 2    3               2              0               1    bad  \n",
            "\n",
            "[5 rows x 21 columns]\n"
          ]
        }
      ]
    },
    {
      "cell_type": "markdown",
      "source": [
        "### Resumen de datos"
      ],
      "metadata": {
        "id": "tA6Oaxg9rDK2"
      }
    },
    {
      "cell_type": "code",
      "source": [
        "# Resumen de los datos\n",
        "print(df.info())"
      ],
      "metadata": {
        "colab": {
          "base_uri": "https://localhost:8080/"
        },
        "id": "L7uZ5wVhrFFb",
        "outputId": "ffdcf01c-1708-4a97-9057-2b63fb8c3dd6"
      },
      "execution_count": 44,
      "outputs": [
        {
          "output_type": "stream",
          "name": "stdout",
          "text": [
            "<class 'pandas.core.frame.DataFrame'>\n",
            "RangeIndex: 1000 entries, 0 to 999\n",
            "Data columns (total 21 columns):\n",
            " #   Column                  Non-Null Count  Dtype \n",
            "---  ------                  --------------  ----- \n",
            " 0   checking_status         1000 non-null   int64 \n",
            " 1   duration                1000 non-null   int64 \n",
            " 2   credit_history          1000 non-null   int64 \n",
            " 3   purpose                 1000 non-null   int64 \n",
            " 4   credit_amount           1000 non-null   int64 \n",
            " 5   savings_status          1000 non-null   int64 \n",
            " 6   employment              1000 non-null   int64 \n",
            " 7   installment_commitment  1000 non-null   int64 \n",
            " 8   personal_status         1000 non-null   int64 \n",
            " 9   other_parties           1000 non-null   int64 \n",
            " 10  residence_since         1000 non-null   int64 \n",
            " 11  property_magnitude      1000 non-null   int64 \n",
            " 12  age                     1000 non-null   int64 \n",
            " 13  other_payment_plans     1000 non-null   int64 \n",
            " 14  housing                 1000 non-null   int64 \n",
            " 15  existing_credits        1000 non-null   int64 \n",
            " 16  job                     1000 non-null   int64 \n",
            " 17  num_dependents          1000 non-null   int64 \n",
            " 18  own_telephone           1000 non-null   int64 \n",
            " 19  foreign_worker          1000 non-null   int64 \n",
            " 20  class                   1000 non-null   object\n",
            "dtypes: int64(20), object(1)\n",
            "memory usage: 164.2+ KB\n",
            "None\n"
          ]
        }
      ]
    },
    {
      "cell_type": "markdown",
      "source": [
        "## Carasterísticas descriptivas"
      ],
      "metadata": {
        "id": "gzWs8Xr9rNdP"
      }
    },
    {
      "cell_type": "code",
      "source": [
        "# Estadísticas descriptivas\n",
        "print(df.describe())"
      ],
      "metadata": {
        "colab": {
          "base_uri": "https://localhost:8080/"
        },
        "id": "WVtRjdRerQsH",
        "outputId": "f87f2466-7655-4692-ff04-bdd201be6351"
      },
      "execution_count": 45,
      "outputs": [
        {
          "output_type": "stream",
          "name": "stdout",
          "text": [
            "       checking_status     duration  credit_history     purpose  \\\n",
            "count      1000.000000  1000.000000     1000.000000  1000.00000   \n",
            "mean          1.582000    20.903000        2.219000     4.12500   \n",
            "std           1.253334    12.058814        1.064035     2.47457   \n",
            "min           0.000000     4.000000        0.000000     0.00000   \n",
            "25%           0.000000    12.000000        1.000000     2.00000   \n",
            "50%           1.000000    18.000000        3.000000     5.00000   \n",
            "75%           3.000000    24.000000        3.000000     7.00000   \n",
            "max           3.000000    72.000000        4.000000     9.00000   \n",
            "\n",
            "       credit_amount  savings_status   employment  installment_commitment  \\\n",
            "count    1000.000000       1000.0000  1000.000000             1000.000000   \n",
            "mean     3271.258000          2.1450     1.525000                2.973000   \n",
            "std      2822.736876          1.1114     1.344315                1.118715   \n",
            "min       250.000000          0.0000     0.000000                1.000000   \n",
            "25%      1365.500000          2.0000     0.000000                2.000000   \n",
            "50%      2319.500000          2.0000     1.000000                3.000000   \n",
            "75%      3972.250000          2.0000     3.000000                4.000000   \n",
            "max     18424.000000          4.0000     4.000000                4.000000   \n",
            "\n",
            "       personal_status  other_parties  residence_since  property_magnitude  \\\n",
            "count      1000.000000    1000.000000      1000.000000         1000.000000   \n",
            "mean          1.878000       1.866000         2.845000            1.714000   \n",
            "std           1.350904       0.445244         1.103718            1.154789   \n",
            "min           0.000000       0.000000         1.000000            0.000000   \n",
            "25%           0.000000       2.000000         2.000000            1.000000   \n",
            "50%           3.000000       2.000000         3.000000            2.000000   \n",
            "75%           3.000000       2.000000         4.000000            3.000000   \n",
            "max           3.000000       2.000000         4.000000            3.000000   \n",
            "\n",
            "               age  other_payment_plans      housing  existing_credits  \\\n",
            "count  1000.000000          1000.000000  1000.000000       1000.000000   \n",
            "mean     35.546000             0.908000     1.071000          1.407000   \n",
            "std      11.375469             0.421561     0.531264          0.577654   \n",
            "min      19.000000             0.000000     0.000000          1.000000   \n",
            "25%      27.000000             1.000000     1.000000          1.000000   \n",
            "50%      33.000000             1.000000     1.000000          1.000000   \n",
            "75%      42.000000             1.000000     1.000000          2.000000   \n",
            "max      75.000000             2.000000     2.000000          4.000000   \n",
            "\n",
            "               job  num_dependents  own_telephone  foreign_worker  \n",
            "count  1000.000000     1000.000000    1000.000000     1000.000000  \n",
            "mean      2.312000        1.155000       0.404000        0.963000  \n",
            "std       1.071356        0.362086       0.490943        0.188856  \n",
            "min       0.000000        1.000000       0.000000        0.000000  \n",
            "25%       2.000000        1.000000       0.000000        1.000000  \n",
            "50%       3.000000        1.000000       0.000000        1.000000  \n",
            "75%       3.000000        1.000000       1.000000        1.000000  \n",
            "max       3.000000        2.000000       1.000000        1.000000  \n"
          ]
        }
      ]
    },
    {
      "cell_type": "code",
      "source": [
        "plt.figure(figsize=(10,6))\n",
        "sns.histplot(df['age'], bins=30)\n",
        "plt.title('Distribution of Age')\n",
        "plt.xlabel('Age')\n",
        "plt.ylabel('Frequency')\n",
        "plt.show()"
      ],
      "metadata": {
        "colab": {
          "base_uri": "https://localhost:8080/",
          "height": 564
        },
        "id": "3Bp21olOrft2",
        "outputId": "56618e84-be77-4bc8-f61e-970606cec9f6"
      },
      "execution_count": 46,
      "outputs": [
        {
          "output_type": "display_data",
          "data": {
            "text/plain": [
              "<Figure size 1000x600 with 1 Axes>"
            ],
            "image/png": "[encoded data removed]"
          },
          "metadata": {}
        }
      ]
    },
    {
      "cell_type": "markdown",
      "source": [
        "### Historial de credito"
      ],
      "metadata": {
        "id": "XzHks1VcrpiY"
      }
    },
    {
      "cell_type": "code",
      "source": [
        "plt.figure(figsize=(10,6))\n",
        "sns.countplot(df['credit_history'])\n",
        "plt.title('Credit History Counts')\n",
        "plt.xlabel('Credit History')\n",
        "plt.ylabel('Count')\n",
        "plt.xticks(rotation=90)  # this will rotate the x-axis labels to make them more readable\n",
        "plt.show()"
      ],
      "metadata": {
        "colab": {
          "base_uri": "https://localhost:8080/",
          "height": 559
        },
        "id": "-oIFbYQDrrXo",
        "outputId": "edaf51cd-115e-496a-dc4e-2a8a79feaa4e"
      },
      "execution_count": 48,
      "outputs": [
        {
          "output_type": "display_data",
          "data": {
            "text/plain": [
              "<Figure size 1000x600 with 1 Axes>"
            ],
            "image/png": "[encoded data removed]"
          },
          "metadata": {}
        }
      ]
    },
    {
      "cell_type": "markdown",
      "source": [],
      "metadata": {
        "id": "ihu8Fr6CtCmK"
      }
    },
    {
      "cell_type": "markdown",
      "source": [
        "### Variables categoricas"
      ],
      "metadata": {
        "id": "eKzjn--Hn1SB"
      }
    },
    {
      "cell_type": "code",
      "source": [
        "# Codificar las variables categóricas\n",
        "label_encoders = {}\n",
        "categorical_columns = ['checking_status', 'credit_history', 'purpose', 'savings_status', 'employment',\n",
        "                       'personal_status', 'other_parties', 'property_magnitude', 'other_payment_plans', \n",
        "                       'housing', 'job', 'own_telephone', 'foreign_worker']\n",
        "\n",
        "for column in categorical_columns:\n",
        "    label_encoders[column] = LabelEncoder()\n",
        "    df[column] = label_encoders[column].fit_transform(df[column])"
      ],
      "metadata": {
        "id": "iK8af8sHnwKt"
      },
      "execution_count": 42,
      "outputs": []
    },
    {
      "cell_type": "markdown",
      "source": [
        "### Separación de las variables independientes y la variable objetivo"
      ],
      "metadata": {
        "id": "C174Nk9an-0z"
      }
    },
    {
      "cell_type": "code",
      "source": [
        "# Separar las variables independientes y la variable objetivo\n",
        "X = df.drop('class', axis=1)\n",
        "y = df['class']\n"
      ],
      "metadata": {
        "id": "wV6uu2laoFM8"
      },
      "execution_count": 27,
      "outputs": []
    },
    {
      "cell_type": "markdown",
      "source": [
        "### División de los datos en conjuntos de entrenamiento y prueba"
      ],
      "metadata": {
        "id": "qtcLLLejoM_U"
      }
    },
    {
      "cell_type": "code",
      "source": [
        "# Dividir los datos en conjuntos de entrenamiento y prueba\n",
        "X_train, X_test, y_train, y_test = train_test_split(X, y, test_size=0.2, random_state=42)"
      ],
      "metadata": {
        "id": "_a4hlCMAoMM8"
      },
      "execution_count": 28,
      "outputs": []
    },
    {
      "cell_type": "markdown",
      "source": [
        "### Entrenamiento del modelo de bosque aleatorio"
      ],
      "metadata": {
        "id": "kBtFeFnLoR8a"
      }
    },
    {
      "cell_type": "code",
      "source": [
        "# Entrenar el modelo de bosque aleatorio\n",
        "rf = RandomForestClassifier(n_estimators=100, random_state=42)\n",
        "rf.fit(X_train, y_train)"
      ],
      "metadata": {
        "colab": {
          "base_uri": "https://localhost:8080/",
          "height": 75
        },
        "id": "26Lxf7lRoWJb",
        "outputId": "f21bfdc0-ba32-4d0e-8b60-c6fc135d1490"
      },
      "execution_count": 29,
      "outputs": [
        {
          "output_type": "execute_result",
          "data": {
            "text/plain": [
              "RandomForestClassifier(random_state=42)"
            ],
            "text/html": [
              "<style>#sk-container-id-1 {color: black;background-color: white;}#sk-container-id-1 pre{padding: 0;}#sk-container-id-1 div.sk-toggleable {background-color: white;}#sk-container-id-1 label.sk-toggleable__label {cursor: pointer;display: block;width: 100%;margin-bottom: 0;padding: 0.3em;box-sizing: border-box;text-align: center;}#sk-container-id-1 label.sk-toggleable__label-arrow:before {content: \"▸\";float: left;margin-right: 0.25em;color: #696969;}#sk-container-id-1 label.sk-toggleable__label-arrow:hover:before {color: black;}#sk-container-id-1 div.sk-estimator:hover label.sk-toggleable__label-arrow:before {color: black;}#sk-container-id-1 div.sk-toggleable__content {max-height: 0;max-width: 0;overflow: hidden;text-align: left;background-color: #f0f8ff;}#sk-container-id-1 div.sk-toggleable__content pre {margin: 0.2em;color: black;border-radius: 0.25em;background-color: #f0f8ff;}#sk-container-id-1 input.sk-toggleable__control:checked~div.sk-toggleable__content {max-height: 200px;max-width: 100%;overflow: auto;}#sk-container-id-1 input.sk-toggleable__control:checked~label.sk-toggleable__label-arrow:before {content: \"▾\";}#sk-container-id-1 div.sk-estimator input.sk-toggleable__control:checked~label.sk-toggleable__label {background-color: #d4ebff;}#sk-container-id-1 div.sk-label input.sk-toggleable__control:checked~label.sk-toggleable__label {background-color: #d4ebff;}#sk-container-id-1 input.sk-hidden--visually {border: 0;clip: rect(1px 1px 1px 1px);clip: rect(1px, 1px, 1px, 1px);height: 1px;margin: -1px;overflow: hidden;padding: 0;position: absolute;width: 1px;}#sk-container-id-1 div.sk-estimator {font-family: monospace;background-color: #f0f8ff;border: 1px dotted black;border-radius: 0.25em;box-sizing: border-box;margin-bottom: 0.5em;}#sk-container-id-1 div.sk-estimator:hover {background-color: #d4ebff;}#sk-container-id-1 div.sk-parallel-item::after {content: \"\";width: 100%;border-bottom: 1px solid gray;flex-grow: 1;}#sk-container-id-1 div.sk-label:hover label.sk-toggleable__label {background-color: #d4ebff;}#sk-container-id-1 div.sk-serial::before {content: \"\";position: absolute;border-left: 1px solid gray;box-sizing: border-box;top: 0;bottom: 0;left: 50%;z-index: 0;}#sk-container-id-1 div.sk-serial {display: flex;flex-direction: column;align-items: center;background-color: white;padding-right: 0.2em;padding-left: 0.2em;position: relative;}#sk-container-id-1 div.sk-item {position: relative;z-index: 1;}#sk-container-id-1 div.sk-parallel {display: flex;align-items: stretch;justify-content: center;background-color: white;position: relative;}#sk-container-id-1 div.sk-item::before, #sk-container-id-1 div.sk-parallel-item::before {content: \"\";position: absolute;border-left: 1px solid gray;box-sizing: border-box;top: 0;bottom: 0;left: 50%;z-index: -1;}#sk-container-id-1 div.sk-parallel-item {display: flex;flex-direction: column;z-index: 1;position: relative;background-color: white;}#sk-container-id-1 div.sk-parallel-item:first-child::after {align-self: flex-end;width: 50%;}#sk-container-id-1 div.sk-parallel-item:last-child::after {align-self: flex-start;width: 50%;}#sk-container-id-1 div.sk-parallel-item:only-child::after {width: 0;}#sk-container-id-1 div.sk-dashed-wrapped {border: 1px dashed gray;margin: 0 0.4em 0.5em 0.4em;box-sizing: border-box;padding-bottom: 0.4em;background-color: white;}#sk-container-id-1 div.sk-label label {font-family: monospace;font-weight: bold;display: inline-block;line-height: 1.2em;}#sk-container-id-1 div.sk-label-container {text-align: center;}#sk-container-id-1 div.sk-container {/* jupyter's `normalize.less` sets `[hidden] { display: none; }` but bootstrap.min.css set `[hidden] { display: none !important; }` so we also need the `!important` here to be able to override the default hidden behavior on the sphinx rendered scikit-learn.org. See: https://github.com/scikit-learn/scikit-learn/issues/21755 */display: inline-block !important;position: relative;}#sk-container-id-1 div.sk-text-repr-fallback {display: none;}</style><div id=\"sk-container-id-1\" class=\"sk-top-container\"><div class=\"sk-text-repr-fallback\"><pre>RandomForestClassifier(random_state=42)</pre><b>In a Jupyter environment, please rerun this cell to show the HTML representation or trust the notebook. <br />On GitHub, the HTML representation is unable to render, please try loading this page with nbviewer.org.</b></div><div class=\"sk-container\" hidden><div class=\"sk-item\"><div class=\"sk-estimator sk-toggleable\"><input class=\"sk-toggleable__control sk-hidden--visually\" id=\"sk-estimator-id-1\" type=\"checkbox\" checked><label for=\"sk-estimator-id-1\" class=\"sk-toggleable__label sk-toggleable__label-arrow\">RandomForestClassifier</label><div class=\"sk-toggleable__content\"><pre>RandomForestClassifier(random_state=42)</pre></div></div></div></div></div>"
            ]
          },
          "metadata": {},
          "execution_count": 29
        }
      ]
    },
    {
      "cell_type": "markdown",
      "source": [
        "### Hacer predicciones con el conjunto de prueba"
      ],
      "metadata": {
        "id": "dpfZgf_Vogr6"
      }
    },
    {
      "cell_type": "code",
      "source": [
        "# Hacer predicciones con el conjunto de prueba\n",
        "y_pred = rf.predict(X_test)"
      ],
      "metadata": {
        "id": "OXjKsKxuoiUh"
      },
      "execution_count": 30,
      "outputs": []
    },
    {
      "cell_type": "markdown",
      "source": [
        "### Calcular la precisión"
      ],
      "metadata": {
        "id": "H-JqHkBhosfy"
      }
    },
    {
      "cell_type": "code",
      "source": [
        "# Calcular la precisión\n",
        "accuracy = accuracy_score(y_test, y_pred)\n",
        "print(f'Accuracy: {accuracy}')"
      ],
      "metadata": {
        "colab": {
          "base_uri": "https://localhost:8080/"
        },
        "id": "k9kQwjTWoukQ",
        "outputId": "f15ec6d9-833d-4e59-ff2a-6cb814f92db7"
      },
      "execution_count": 31,
      "outputs": [
        {
          "output_type": "stream",
          "name": "stdout",
          "text": [
            "Accuracy: 0.785\n"
          ]
        }
      ]
    },
    {
      "cell_type": "markdown",
      "source": [
        "### Obtener la importancia de las características"
      ],
      "metadata": {
        "id": "7k3EA5UfoxX-"
      }
    },
    {
      "cell_type": "code",
      "source": [
        "# Obtener la importancia de las características\n",
        "importances = rf.feature_importances_\n"
      ],
      "metadata": {
        "id": "e46yjqqEo9Xp"
      },
      "execution_count": 32,
      "outputs": []
    },
    {
      "cell_type": "markdown",
      "source": [
        "### Crear un DataFrame para visualizar las importancias"
      ],
      "metadata": {
        "id": "mf0NDDuipF2b"
      }
    },
    {
      "cell_type": "code",
      "source": [
        "# Crear un DataFrame para visualizar las importancias\n",
        "feature_importances = pd.DataFrame({\"feature\": X.columns, \"importance\": importances})\n",
        "feature_importances.sort_values(by=\"importance\", ascending=False, inplace=True)"
      ],
      "metadata": {
        "id": "e8GvPAclpI5v"
      },
      "execution_count": 33,
      "outputs": []
    },
    {
      "cell_type": "markdown",
      "source": [
        "### Imprimir las características ordenadas por importancia"
      ],
      "metadata": {
        "id": "w2yQap9ypQgg"
      }
    },
    {
      "cell_type": "code",
      "source": [
        "# Imprimir las características ordenadas por importancia\n",
        "print(\"\\nFeature importances:\")\n",
        "print(feature_importances)"
      ],
      "metadata": {
        "colab": {
          "base_uri": "https://localhost:8080/"
        },
        "id": "dr36_RNxpSVh",
        "outputId": "24d2879f-1d2c-45ee-aaf6-13f57aba2d14"
      },
      "execution_count": 34,
      "outputs": [
        {
          "output_type": "stream",
          "name": "stdout",
          "text": [
            "\n",
            "Feature importances:\n",
            "                   feature  importance\n",
            "4            credit_amount    0.131584\n",
            "12                     age    0.113602\n",
            "0          checking_status    0.103519\n",
            "1                 duration    0.094898\n",
            "3                  purpose    0.068415\n",
            "2           credit_history    0.057122\n",
            "6               employment    0.051594\n",
            "5           savings_status    0.044489\n",
            "7   installment_commitment    0.043968\n",
            "10         residence_since    0.041911\n",
            "11      property_magnitude    0.040490\n",
            "8          personal_status    0.035926\n",
            "13     other_payment_plans    0.031399\n",
            "14                 housing    0.030902\n",
            "16                     job    0.030797\n",
            "18           own_telephone    0.022958\n",
            "15        existing_credits    0.020888\n",
            "9            other_parties    0.018155\n",
            "17          num_dependents    0.013389\n",
            "19          foreign_worker    0.003994\n"
          ]
        }
      ]
    },
    {
      "cell_type": "markdown",
      "source": [
        "### Imprimir la característica más importante"
      ],
      "metadata": {
        "id": "AUKeAofqpY_z"
      }
    },
    {
      "cell_type": "code",
      "source": [
        "# Imprimir la característica más importante\n",
        "caracteristica_mas_importante = feature_importances.iloc[0]\n",
        "print(f'\\nLa característica más importante para determinar un crédito \"bueno\" es: {caracteristica_mas_importante[\"feature\"]} con una importancia de: {caracteristica_mas_importante[\"importance\"]}')"
      ],
      "metadata": {
        "colab": {
          "base_uri": "https://localhost:8080/"
        },
        "id": "6plBg5wqpc4b",
        "outputId": "76a056c1-fe00-46ae-92fb-ac4f7fc6840c"
      },
      "execution_count": 36,
      "outputs": [
        {
          "output_type": "stream",
          "name": "stdout",
          "text": [
            "\n",
            "La característica más importante para determinar un crédito \"bueno\" es: credit_amount con una importancia de: 0.1315840674837189\n"
          ]
        }
      ]
    },
    {
      "cell_type": "markdown",
      "source": [
        "### Grafica importancia"
      ],
      "metadata": {
        "id": "Ud9vPgE_phSc"
      }
    },
    {
      "cell_type": "code",
      "source": [
        "# Ordenar las características por importancia\n",
        "feature_importances = feature_importances.sort_values(by=\"importance\", ascending=False)\n",
        "\n",
        "# Crear un gráfico de barras\n",
        "plt.figure(figsize=(10, 8))\n",
        "plt.barh(feature_importances[\"feature\"], feature_importances[\"importance\"], color='skyblue')\n",
        "\n",
        "plt.xlabel(\"Importancia\")\n",
        "plt.ylabel(\"Característica\")\n",
        "plt.title(\"Importancia de las características en la predicción de crédito\")\n",
        "\n",
        "plt.show()\n"
      ],
      "metadata": {
        "colab": {
          "base_uri": "https://localhost:8080/",
          "height": 719
        },
        "id": "Gk7Zg2tNgJIw",
        "outputId": "daa1e9f0-c199-4736-8447-7244af0afa54"
      },
      "execution_count": 37,
      "outputs": [
        {
          "output_type": "display_data",
          "data": {
            "text/plain": [
              "<Figure size 1000x800 with 1 Axes>"
            ],
            "image/png": "[encoded data removed]"
          },
          "metadata": {}
        }
      ]
    },
    {
      "cell_type": "code",
      "source": [
        "# Calcular la matriz de confusión\n",
        "cm = confusion_matrix(y_test, y_pred)\n",
        "\n",
        "# Crear el mapa de calor con seaborn\n",
        "plt.figure(figsize=(10,7))\n",
        "sns.heatmap(cm, annot=True, cmap='Blues', fmt='g')\n",
        "plt.xlabel('Predicho')\n",
        "plt.ylabel('Real')\n",
        "plt.title('Matriz de Confusión')\n",
        "plt.show()"
      ],
      "metadata": {
        "colab": {
          "base_uri": "https://localhost:8080/",
          "height": 641
        },
        "id": "Zcjz6GD2gcR7",
        "outputId": "c4de4c01-9f44-4a45-806b-a78a70748a48"
      },
      "execution_count": 38,
      "outputs": [
        {
          "output_type": "display_data",
          "data": {
            "text/plain": [
              "<Figure size 1000x700 with 2 Axes>"
            ],
            "image/png": "[encoded data removed]"
          },
          "metadata": {}
        }
      ]
    },
    {
      "cell_type": "code",
      "source": [
        "# Imprimir la característica más importante\n",
        "most_important_feature = feature_importances.iloc[0]\n",
        "print(f'\\nLa característica más importante para determinar un crédito \"bueno\" es: {most_important_feature[\"feature\"]} con una importancia de: {most_important_feature[\"importance\"]}')\n"
      ],
      "metadata": {
        "colab": {
          "base_uri": "https://localhost:8080/"
        },
        "id": "ZhDz01yFiL2_",
        "outputId": "518dc2d2-0b10-43e2-d412-b4997e9e3c6d"
      },
      "execution_count": 39,
      "outputs": [
        {
          "output_type": "stream",
          "name": "stdout",
          "text": [
            "\n",
            "La característica más importante para determinar un crédito \"bueno\" es: credit_amount con una importancia de: 0.1315840674837189\n"
          ]
        }
      ]
    }
  ]
}