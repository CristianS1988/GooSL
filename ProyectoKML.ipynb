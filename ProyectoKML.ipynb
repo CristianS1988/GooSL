{
  "nbformat": 4,
  "nbformat_minor": 0,
  "metadata": {
    "colab": {
      "provenance": [],
      "authorship_tag": "ABX9TyPL8d5YussH6Vrb9W4Kftia",
      "include_colab_link": true
    },
    "kernelspec": {
      "name": "python3",
      "display_name": "Python 3"
    },
    "language_info": {
      "name": "python"
    }
  },
  "cells": [
    {
      "cell_type": "markdown",
      "metadata": {
        "id": "view-in-github",
        "colab_type": "text"
      },
      "source": [
        "<a href=\"https://colab.research.google.com/github/CristianS1988/GooSL/blob/main/ProyectoKML.ipynb\" target=\"_parent\"><img src=\"https://colab.research.google.com/assets/colab-badge.svg\" alt=\"Open In Colab\"/></a>"
      ]
    },
    {
      "cell_type": "code",
      "source": [
        "!pip install beautifulsoup4 lxml\n"
      ],
      "metadata": {
        "colab": {
          "base_uri": "https://localhost:8080/"
        },
        "id": "I0p4pc5SYmFR",
        "outputId": "dd36c278-7246-43ac-dca9-dcbd07960561"
      },
      "execution_count": 6,
      "outputs": [
        {
          "output_type": "stream",
          "name": "stdout",
          "text": [
            "Requirement already satisfied: beautifulsoup4 in /usr/local/lib/python3.10/dist-packages (4.12.3)\n",
            "Requirement already satisfied: lxml in /usr/local/lib/python3.10/dist-packages (4.9.4)\n",
            "Requirement already satisfied: soupsieve>1.2 in /usr/local/lib/python3.10/dist-packages (from beautifulsoup4) (2.5)\n"
          ]
        }
      ]
    },
    {
      "cell_type": "code",
      "source": [
        "from bs4 import BeautifulSoup\n",
        "import pandas as pd\n",
        "\n",
        "# Ruta al archivo KML\n",
        "kml_file_path = '/content/PUNTOS_EMLID.kml'\n",
        "\n",
        "# Leer el contenido del archivo KML\n",
        "with open(kml_file_path, 'r') as file:\n",
        "    kml_content = file.read()\n",
        "\n",
        "# Uso BeautifulSoup para analizar el contenido\n",
        "soup = BeautifulSoup(kml_content, 'xml')  # Usar el parser 'xml'\n",
        "\n",
        "data = []\n",
        "# Buscar todos los elementos 'Placemark'\n",
        "for placemark in soup.find_all('Placemark'):\n",
        "    name = placemark.find('name').text if placemark.find('name') else 'No Name'\n",
        "    coordinates_tag = placemark.find('coordinates')\n",
        "    if coordinates_tag:\n",
        "        coordinates = coordinates_tag.text.strip().split(',')\n",
        "        # Asegurarse de que tenemos las coordenadas antes de agregar a los datos\n",
        "        if len(coordinates) >= 2:\n",
        "            data.append({'Nombre': name, 'Longitud': coordinates[0], 'Latitud': coordinates[1]})\n",
        "\n",
        "# Convertir los datos a un DataFrame\n",
        "df = pd.DataFrame(data)\n",
        "\n",
        "# Guardar los datos en un archivo CSV\n",
        "df.to_csv('/content/datos_extraidos.csv', index=False)\n"
      ],
      "metadata": {
        "id": "Hws6Dg3LYrKF"
      },
      "execution_count": 7,
      "outputs": []
    },
    {
      "cell_type": "code",
      "source": [
        "from google.colab import files\n",
        "import pandas as pd\n",
        "\n",
        "# Suponiendo que ya tienes el DataFrame `df` creado con tus datos\n",
        "# df = pd.DataFrame(data)\n",
        "\n",
        "# Guardar el DataFrame en un archivo CSV\n",
        "df.to_csv('datos_extraidos.csv', index=False)\n",
        "\n",
        "# Descargar el archivo a tu PC\n",
        "files.download('datos_extraidos.csv')\n"
      ],
      "metadata": {
        "colab": {
          "base_uri": "https://localhost:8080/",
          "height": 17
        },
        "id": "Bm96hUIAZYwC",
        "outputId": "67059d18-2ec8-4a1a-d47a-97aa13910c01"
      },
      "execution_count": 8,
      "outputs": [
        {
          "output_type": "display_data",
          "data": {
            "text/plain": [
              "<IPython.core.display.Javascript object>"
            ],
            "application/javascript": [
              "\n",
              "    async function download(id, filename, size) {\n",
              "      if (!google.colab.kernel.accessAllowed) {\n",
              "        return;\n",
              "      }\n",
              "      const div = document.createElement('div');\n",
              "      const label = document.createElement('label');\n",
              "      label.textContent = `Downloading \"${filename}\": `;\n",
              "      div.appendChild(label);\n",
              "      const progress = document.createElement('progress');\n",
              "      progress.max = size;\n",
              "      div.appendChild(progress);\n",
              "      document.body.appendChild(div);\n",
              "\n",
              "      const buffers = [];\n",
              "      let downloaded = 0;\n",
              "\n",
              "      const channel = await google.colab.kernel.comms.open(id);\n",
              "      // Send a message to notify the kernel that we're ready.\n",
              "      channel.send({})\n",
              "\n",
              "      for await (const message of channel.messages) {\n",
              "        // Send a message to notify the kernel that we're ready.\n",
              "        channel.send({})\n",
              "        if (message.buffers) {\n",
              "          for (const buffer of message.buffers) {\n",
              "            buffers.push(buffer);\n",
              "            downloaded += buffer.byteLength;\n",
              "            progress.value = downloaded;\n",
              "          }\n",
              "        }\n",
              "      }\n",
              "      const blob = new Blob(buffers, {type: 'application/binary'});\n",
              "      const a = document.createElement('a');\n",
              "      a.href = window.URL.createObjectURL(blob);\n",
              "      a.download = filename;\n",
              "      div.appendChild(a);\n",
              "      a.click();\n",
              "      div.remove();\n",
              "    }\n",
              "  "
            ]
          },
          "metadata": {}
        },
        {
          "output_type": "display_data",
          "data": {
            "text/plain": [
              "<IPython.core.display.Javascript object>"
            ],
            "application/javascript": [
              "download(\"download_265ce221-d92b-47f1-a0ec-b1408e791241\", \"datos_extraidos.csv\", 8645)"
            ]
          },
          "metadata": {}
        }
      ]
    }
  ]
}